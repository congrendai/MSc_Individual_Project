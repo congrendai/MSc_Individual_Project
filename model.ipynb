{
 "cells": [
  {
   "cell_type": "code",
   "execution_count": 1,
   "metadata": {},
   "outputs": [],
   "source": [
    "from kervis.utils import Model\n",
    "from kervis.utils import Dataset\n",
    "from kervis.kernels import ShortestPath, Graphlet, VertexHistogram, EdgeHistogram"
   ]
  },
  {
   "cell_type": "code",
   "execution_count": 2,
   "metadata": {},
   "outputs": [],
   "source": [
    "dataset = Dataset(\"MUTAG\")"
   ]
  },
  {
   "cell_type": "code",
   "execution_count": 3,
   "metadata": {},
   "outputs": [],
   "source": [
    "from kervis.utils import fetch_dataset\n",
    "dataset = fetch_dataset(\"MUTAG\", verbose=False)"
   ]
  },
  {
   "cell_type": "code",
   "execution_count": 4,
   "metadata": {},
   "outputs": [
    {
     "name": "stdout",
     "output_type": "stream",
     "text": [
      "Accuracy for MUTAG is 0.7894736842105263\n"
     ]
    }
   ],
   "source": [
    "SP = Model(\"MUTAG\", EdgeHistogram, \"SVM\")"
   ]
  },
  {
   "cell_type": "code",
   "execution_count": 5,
   "metadata": {},
   "outputs": [
    {
     "data": {
      "image/png": "[encoded data removed]",
      "text/plain": [
       "<Figure size 640x480 with 1 Axes>"
      ]
     },
     "metadata": {},
     "output_type": "display_data"
    }
   ],
   "source": [
    "SP.bar_plot(0)"
   ]
  },
  {
   "cell_type": "code",
   "execution_count": 6,
   "metadata": {},
   "outputs": [
    {
     "data": {
      "text/plain": [
       "[]"
      ]
     },
     "execution_count": 6,
     "metadata": {},
     "output_type": "execute_result"
    }
   ],
   "source": [
    "SP.kernel.attributes"
   ]
  },
  {
   "cell_type": "code",
   "execution_count": 7,
   "metadata": {},
   "outputs": [
    {
     "ename": "IndexError",
     "evalue": "list index out of range",
     "output_type": "error",
     "traceback": [
      "\u001b[0;31m---------------------------------------------------------------------------\u001b[0m",
      "\u001b[0;31mIndexError\u001b[0m                                Traceback (most recent call last)",
      "Cell \u001b[0;32mIn[7], line 5\u001b[0m\n\u001b[1;32m      3\u001b[0m shap_feature \u001b[39m=\u001b[39m \u001b[39m43\u001b[39m\n\u001b[1;32m      4\u001b[0m graph_index \u001b[39m=\u001b[39m \u001b[39m0\u001b[39m\n\u001b[0;32m----> 5\u001b[0m paths \u001b[39m=\u001b[39m [(path[\u001b[39m0\u001b[39m],path[\u001b[39m1\u001b[39m]\u001b[39m.\u001b[39mkeys()[\u001b[39m0\u001b[39m]) \u001b[39mfor\u001b[39;00m path \u001b[39min\u001b[39;00m nx\u001b[39m.\u001b[39mall_pairs_shortest_path_length(SP\u001b[39m.\u001b[39mdataset\u001b[39m.\u001b[39mgraphs[graph_index]) \u001b[39mif\u001b[39;00m \u001b[39mlist\u001b[39m(path[\u001b[39m1\u001b[39m]\u001b[39m.\u001b[39mvalues())[\u001b[39m0\u001b[39m] \u001b[39m==\u001b[39m SP\u001b[39m.\u001b[39mkernel\u001b[39m.\u001b[39mattributes[shap_feature][\u001b[39m2\u001b[39m]]\n\u001b[1;32m      6\u001b[0m paths\n",
      "Cell \u001b[0;32mIn[7], line 5\u001b[0m, in \u001b[0;36m<listcomp>\u001b[0;34m(.0)\u001b[0m\n\u001b[1;32m      3\u001b[0m shap_feature \u001b[39m=\u001b[39m \u001b[39m43\u001b[39m\n\u001b[1;32m      4\u001b[0m graph_index \u001b[39m=\u001b[39m \u001b[39m0\u001b[39m\n\u001b[0;32m----> 5\u001b[0m paths \u001b[39m=\u001b[39m [(path[\u001b[39m0\u001b[39m],path[\u001b[39m1\u001b[39m]\u001b[39m.\u001b[39mkeys()[\u001b[39m0\u001b[39m]) \u001b[39mfor\u001b[39;00m path \u001b[39min\u001b[39;00m nx\u001b[39m.\u001b[39mall_pairs_shortest_path_length(SP\u001b[39m.\u001b[39mdataset\u001b[39m.\u001b[39mgraphs[graph_index]) \u001b[39mif\u001b[39;00m \u001b[39mlist\u001b[39m(path[\u001b[39m1\u001b[39m]\u001b[39m.\u001b[39mvalues())[\u001b[39m0\u001b[39m] \u001b[39m==\u001b[39m SP\u001b[39m.\u001b[39;49mkernel\u001b[39m.\u001b[39;49mattributes[shap_feature][\u001b[39m2\u001b[39m]]\n\u001b[1;32m      6\u001b[0m paths\n",
      "\u001b[0;31mIndexError\u001b[0m: list index out of range"
     ]
    }
   ],
   "source": [
    "import networkx as nx\n",
    "\n",
    "shap_feature = 43\n",
    "graph_index = 0\n",
    "paths = [(path[0],path[1].keys()[0]) for path in nx.all_pairs_shortest_path_length(SP.dataset.graphs[graph_index]) if list(path[1].values())[0] == SP.kernel.attributes[shap_feature][2]]\n",
    "paths"
   ]
  },
  {
   "cell_type": "code",
   "execution_count": null,
   "metadata": {},
   "outputs": [],
   "source": [
    "paths = [path for path in nx.all_pairs_shortest_path_length(SP.dataset.graphs[graph_index])]"
   ]
  },
  {
   "cell_type": "code",
   "execution_count": null,
   "metadata": {},
   "outputs": [
    {
     "data": {
      "text/plain": [
       "dict_values([0, 1, 1, 2, 2, 3, 3, 4, 4, 5, 5, 6, 6, 7, 8, 9, 9])"
      ]
     },
     "execution_count": 8,
     "metadata": {},
     "output_type": "execute_result"
    }
   ],
   "source": [
    "paths[0][1].values()"
   ]
  }
 ],
 "metadata": {
  "kernelspec": {
   "display_name": "grakel",
   "language": "python",
   "name": "python3"
  },
  "language_info": {
   "codemirror_mode": {
    "name": "ipython",
    "version": 3
   },
   "file_extension": ".py",
   "mimetype": "text/x-python",
   "name": "python",
   "nbconvert_exporter": "python",
   "pygments_lexer": "ipython3",
   "version": "3.8.16"
  },
  "orig_nbformat": 4
 },
 "nbformat": 4,
 "nbformat_minor": 2
}
