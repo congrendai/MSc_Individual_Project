{
 "cells": [
  {
   "cell_type": "code",
   "execution_count": 1,
   "metadata": {},
   "outputs": [],
   "source": [
    "from kervis.utils import Model\n",
    "from kervis.kernels import VertexHistogram, EdgeHistogram, ShortestPath, Graphlet, WeisfeilerLehman"
   ]
  },
  {
   "cell_type": "code",
   "execution_count": 2,
   "metadata": {},
   "outputs": [],
   "source": [
    "kernel = Graphlet()\n",
    "model = Model(kernel, \"SVM\", \"MUTAG\")"
   ]
  },
  {
   "cell_type": "code",
   "execution_count": 3,
   "metadata": {},
   "outputs": [
    {
     "data": {
      "image/png": "[encoded data removed]",
      "text/plain": [
       "<Figure size 800x250 with 3 Axes>"
      ]
     },
     "metadata": {},
     "output_type": "display_data"
    }
   ],
   "source": [
    "model.waterfall_plot(0)"
   ]
  },
  {
   "cell_type": "code",
   "execution_count": 4,
   "metadata": {},
   "outputs": [],
   "source": [
    "import networkx as nx"
   ]
  },
  {
   "cell_type": "code",
   "execution_count": 5,
   "metadata": {},
   "outputs": [
    {
     "data": {
      "text/plain": [
       "array([[ 6., 37.],\n",
       "       [ 4., 25.],\n",
       "       [ 4., 25.],\n",
       "       [ 8., 50.],\n",
       "       [ 4., 17.],\n",
       "       [14., 70.],\n",
       "       [ 5., 29.],\n",
       "       [ 8., 42.],\n",
       "       [ 4., 23.],\n",
       "       [ 7., 38.],\n",
       "       [ 6., 38.],\n",
       "       [ 9., 52.],\n",
       "       [10., 56.],\n",
       "       [ 5., 26.],\n",
       "       [ 8., 49.],\n",
       "       [10., 57.],\n",
       "       [ 4., 18.],\n",
       "       [ 7., 40.],\n",
       "       [ 4., 24.],\n",
       "       [ 7., 40.],\n",
       "       [ 6., 32.],\n",
       "       [ 7., 38.],\n",
       "       [10., 62.],\n",
       "       [14., 85.],\n",
       "       [ 7., 38.],\n",
       "       [ 5., 21.],\n",
       "       [10., 62.],\n",
       "       [ 7., 38.],\n",
       "       [11., 53.],\n",
       "       [10., 61.],\n",
       "       [10., 57.],\n",
       "       [10., 46.],\n",
       "       [12., 48.],\n",
       "       [ 4., 24.],\n",
       "       [ 7., 38.],\n",
       "       [ 5., 27.],\n",
       "       [ 4., 27.],\n",
       "       [ 4., 26.],\n",
       "       [ 5., 29.],\n",
       "       [ 4., 25.],\n",
       "       [ 7., 38.],\n",
       "       [ 5., 25.],\n",
       "       [ 8., 49.],\n",
       "       [ 6., 37.],\n",
       "       [ 4., 18.],\n",
       "       [10., 62.],\n",
       "       [10., 54.],\n",
       "       [ 6., 36.],\n",
       "       [ 8., 42.],\n",
       "       [ 6., 32.],\n",
       "       [12., 70.],\n",
       "       [12., 70.],\n",
       "       [ 8., 42.],\n",
       "       [ 8., 41.],\n",
       "       [ 5., 28.],\n",
       "       [ 6., 36.],\n",
       "       [ 8., 39.],\n",
       "       [12., 68.],\n",
       "       [10., 62.],\n",
       "       [ 8., 38.],\n",
       "       [ 7., 38.],\n",
       "       [ 4., 17.],\n",
       "       [ 7., 37.],\n",
       "       [ 9., 46.],\n",
       "       [ 6., 31.],\n",
       "       [ 5., 28.],\n",
       "       [ 9., 53.],\n",
       "       [10., 62.],\n",
       "       [ 8., 43.],\n",
       "       [ 6., 29.],\n",
       "       [12., 70.],\n",
       "       [ 6., 36.],\n",
       "       [ 5., 29.],\n",
       "       [10., 61.],\n",
       "       [ 6., 32.],\n",
       "       [ 3., 15.],\n",
       "       [ 5., 29.],\n",
       "       [ 5., 29.],\n",
       "       [ 6., 36.],\n",
       "       [ 8., 50.],\n",
       "       [ 4., 18.],\n",
       "       [12., 64.],\n",
       "       [ 6., 36.],\n",
       "       [ 3., 16.],\n",
       "       [10., 62.],\n",
       "       [10., 61.],\n",
       "       [ 6., 36.],\n",
       "       [ 4., 18.],\n",
       "       [ 5., 27.],\n",
       "       [10., 63.],\n",
       "       [12., 68.],\n",
       "       [ 8., 48.],\n",
       "       [10., 63.],\n",
       "       [ 8., 49.],\n",
       "       [ 8., 38.],\n",
       "       [12., 63.],\n",
       "       [ 7., 40.],\n",
       "       [ 4., 25.],\n",
       "       [ 6., 36.],\n",
       "       [ 5., 28.],\n",
       "       [10., 63.],\n",
       "       [13., 60.],\n",
       "       [ 8., 48.],\n",
       "       [10., 63.],\n",
       "       [ 6., 38.],\n",
       "       [ 9., 52.],\n",
       "       [12., 63.],\n",
       "       [ 8., 50.],\n",
       "       [14., 81.],\n",
       "       [10., 47.],\n",
       "       [ 3., 16.],\n",
       "       [ 6., 36.],\n",
       "       [ 5., 21.],\n",
       "       [ 5., 29.],\n",
       "       [ 4., 23.],\n",
       "       [ 3., 14.],\n",
       "       [ 8., 39.],\n",
       "       [10., 62.],\n",
       "       [ 8., 40.],\n",
       "       [ 5., 26.],\n",
       "       [12., 63.],\n",
       "       [ 8., 51.],\n",
       "       [ 6., 32.],\n",
       "       [ 4., 17.],\n",
       "       [ 8., 48.],\n",
       "       [ 8., 43.],\n",
       "       [ 8., 39.],\n",
       "       [ 6., 36.],\n",
       "       [ 5., 23.],\n",
       "       [ 3., 17.],\n",
       "       [ 5., 31.],\n",
       "       [ 3., 17.],\n",
       "       [10., 48.],\n",
       "       [10., 54.],\n",
       "       [ 4., 17.],\n",
       "       [ 9., 52.],\n",
       "       [10., 57.],\n",
       "       [ 5., 25.],\n",
       "       [ 4., 17.],\n",
       "       [ 6., 32.],\n",
       "       [ 4., 18.],\n",
       "       [ 9., 44.],\n",
       "       [ 3., 18.],\n",
       "       [ 4., 17.],\n",
       "       [ 5., 28.],\n",
       "       [ 5., 28.],\n",
       "       [ 5., 25.],\n",
       "       [ 6., 36.],\n",
       "       [ 8., 42.],\n",
       "       [ 4., 20.],\n",
       "       [ 4., 24.],\n",
       "       [10., 55.],\n",
       "       [ 6., 36.],\n",
       "       [ 4., 23.],\n",
       "       [ 5., 23.],\n",
       "       [ 4., 23.],\n",
       "       [ 9., 52.],\n",
       "       [ 8., 42.],\n",
       "       [ 9., 52.],\n",
       "       [ 6., 24.],\n",
       "       [12., 70.],\n",
       "       [10., 46.],\n",
       "       [10., 54.],\n",
       "       [10., 56.],\n",
       "       [ 8., 49.],\n",
       "       [10., 56.],\n",
       "       [10., 56.],\n",
       "       [ 3., 16.],\n",
       "       [ 5., 21.],\n",
       "       [ 6., 37.],\n",
       "       [10., 46.],\n",
       "       [ 4., 23.],\n",
       "       [ 8., 39.],\n",
       "       [10., 56.],\n",
       "       [11., 52.],\n",
       "       [ 4., 23.],\n",
       "       [ 8., 44.],\n",
       "       [ 5., 26.],\n",
       "       [ 7., 37.],\n",
       "       [14., 81.],\n",
       "       [ 4., 17.],\n",
       "       [ 5., 27.],\n",
       "       [10., 56.],\n",
       "       [10., 57.],\n",
       "       [ 5., 21.],\n",
       "       [ 4., 23.],\n",
       "       [ 8., 51.],\n",
       "       [ 6., 36.]])"
      ]
     },
     "execution_count": 5,
     "metadata": {},
     "output_type": "execute_result"
    }
   ],
   "source": [
    "model.kernel.X"
   ]
  },
  {
   "cell_type": "code",
   "execution_count": 9,
   "metadata": {},
   "outputs": [
    {
     "data": {
      "text/plain": [
       "4"
      ]
     },
     "execution_count": 9,
     "metadata": {},
     "output_type": "execute_result"
    }
   ],
   "source": [
    "len(model.find_features(1, 0))"
   ]
  }
 ],
 "metadata": {
  "kernelspec": {
   "display_name": "grakel",
   "language": "python",
   "name": "python3"
  },
  "language_info": {
   "codemirror_mode": {
    "name": "ipython",
    "version": 3
   },
   "file_extension": ".py",
   "mimetype": "text/x-python",
   "name": "python",
   "nbconvert_exporter": "python",
   "pygments_lexer": "ipython3",
   "version": "3.8.16"
  },
  "orig_nbformat": 4
 },
 "nbformat": 4,
 "nbformat_minor": 2
}
