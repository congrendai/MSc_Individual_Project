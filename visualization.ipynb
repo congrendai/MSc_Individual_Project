{
 "cells": [
  {
   "cell_type": "code",
   "execution_count": 30,
   "metadata": {},
   "outputs": [],
   "source": [
    "import networkx as nx\n",
    "from collections import Counter\n",
    "import matplotlib.pyplot as plt\n",
    "from utils import fetch_dataset"
   ]
  },
  {
   "cell_type": "code",
   "execution_count": 31,
   "metadata": {},
   "outputs": [],
   "source": [
    "class Dataset():\n",
    "    def __init__(self, name):\n",
    "        self.name = name\n",
    "        dataset = fetch_dataset(self.name, verbose=False)\n",
    "        self.matadata = dataset.metadata\n",
    "        G, self.y = dataset.data, dataset.target\n",
    "        self.graphs = []\n",
    "        self.G = nx.Graph()\n",
    "        \n",
    "        if self.matadata[name][\"nl\"] == True:\n",
    "            self.node_labels = list(set(label for g in G for label in g[1].values()))\n",
    "            node_cmap = plt.cm.get_cmap('viridis', len(self.node_labels))\n",
    "            self.node_color_map = {self.node_labels[index]: node_cmap(index) for index in range(len(self.node_labels))}\n",
    "            for g in G:\n",
    "                nx_G = nx.Graph()\n",
    "                for node in g[1].items():\n",
    "                    self.G.add_node(node[0], label=node[1])\n",
    "                    nx_G.add_node(node[0], label=node[1])\n",
    "                self.graphs.append(nx_G)\n",
    "\n",
    "            if self.matadata[name][\"el\"] == True:\n",
    "                self.edge_labels = list(set(label for g in G for label in g[2].values()))\n",
    "                for g, graph in zip(G, self.graphs):\n",
    "                    for edge in g[2].items():\n",
    "                        self.G.add_edge(edge[0][0], edge[0][1], type=edge[1])\n",
    "                        graph.add_edge(edge[0][0], edge[0][1], type=edge[1])\n",
    "            \n",
    "            else:\n",
    "                for g, graph in zip(G, self.graphs):\n",
    "                    for edge in g[0]:\n",
    "                        self.G.add_edge(edge[0], edge[1])\n",
    "                        graph.add_edge(edge[0], edge[1])\n",
    "                        \n",
    "        else:\n",
    "            if self.matadata[name][\"el\"] == True:\n",
    "                self.edge_labels = list(set(label for g in G for label in g[2].values()))\n",
    "                for g in G:\n",
    "                    nx_G = nx.Graph()\n",
    "                    for edge in g[2].items():\n",
    "                        self.G.add_edge(edge[0][0], edge[0][1], type=edge[1])\n",
    "                        nx_G.add_edge(edge[0][0], edge[0][1], type=edge[1])\n",
    "                    self.graphs.append(nx_G)\n",
    "                        \n",
    "            else:\n",
    "                for g in G:\n",
    "                    nx_G = nx.Graph()\n",
    "                    for edge in g[0]:\n",
    "                        self.G.add_edge(edge[0], edge[1])\n",
    "                        nx_G.add_edge(edge[0], edge[1])\n",
    "                    self.graphs.append(nx_G)    \n",
    "\n",
    "        # # node colors\n",
    "        # node_color = [self.node_color_map[label[1]] for label in self.graph.nodes(data=\"label\")]\n",
    "\n",
    "        # # +1 for edge width, because edge width 0 is not visible\n",
    "        # edge_width = [self.graph[u][v][\"type\"] + 1 for u, v in self.graph.edges()]\n",
    "\n",
    "    def plot_class_distribution(self):\n",
    "        fig, ax = plt.subplots(figsize=(6, 5))\n",
    "        counter = Counter(self.y)\n",
    "        bars = ax.bar(counter.keys(), counter.values(), width=0.4)\n",
    "        for bars in ax.containers:\n",
    "            # make the numbers on bars away from the bars\n",
    "            ax.bar_label(bars, padding=3)\n",
    "\n",
    "        # give each bar a different color, using colormap\n",
    "        cmap = plt.get_cmap(\"tab20\")\n",
    "        for i, bar in enumerate(bars):\n",
    "            bar.set_color(cmap(i))\n",
    "\n",
    "        # make the y-axis larger to show the numbers on bars\n",
    "        ax.margins(y=0.1)\n",
    "        ax.set_xlabel(\"Class\")\n",
    "        ax.set_ylabel(\"Number of samples\")\n",
    "        ax.set_title(self.name + \" dataset\")\n",
    "        plt.show()"
   ]
  },
  {
   "cell_type": "code",
   "execution_count": 38,
   "metadata": {},
   "outputs": [
    {
     "name": "stderr",
     "output_type": "stream",
     "text": [
      "/var/folders/dn/rwz32gqj5951m0mt9y7smnn80000gn/T/ipykernel_21344/3269513345.py:12: MatplotlibDeprecationWarning: The get_cmap function was deprecated in Matplotlib 3.7 and will be removed two minor releases later. Use ``matplotlib.colormaps[name]`` or ``matplotlib.colormaps.get_cmap(obj)`` instead.\n",
      "  node_cmap = plt.cm.get_cmap('viridis', len(self.node_labels))\n"
     ]
    }
   ],
   "source": [
    "dataset = Dataset(\"COX2\")"
   ]
  },
  {
   "cell_type": "code",
   "execution_count": null,
   "metadata": {},
   "outputs": [],
   "source": []
  }
 ],
 "metadata": {
  "kernelspec": {
   "display_name": "grakel",
   "language": "python",
   "name": "python3"
  },
  "language_info": {
   "codemirror_mode": {
    "name": "ipython",
    "version": 3
   },
   "file_extension": ".py",
   "mimetype": "text/x-python",
   "name": "python",
   "nbconvert_exporter": "python",
   "pygments_lexer": "ipython3",
   "version": "3.8.16"
  },
  "orig_nbformat": 4
 },
 "nbformat": 4,
 "nbformat_minor": 2
}
