{
 "cells": [
  {
   "cell_type": "code",
   "execution_count": 2,
   "metadata": {},
   "outputs": [],
   "source": [
    "from model import Model\n",
    "from utils import fetch_dataset\n",
    "from grakel.kernels import ShortestPath"
   ]
  },
  {
   "cell_type": "code",
   "execution_count": 4,
   "metadata": {},
   "outputs": [
    {
     "data": {
      "text/plain": [
       "array([[75., 65.],\n",
       "       [65., 63.]])"
      ]
     },
     "execution_count": 4,
     "metadata": {},
     "output_type": "execute_result"
    }
   ],
   "source": [
    "a = [[{(0,3),\n",
    "     (1,3),\n",
    "     (2,3),\n",
    "     (3,4),\n",
    "     (4,5),\n",
    "     (4,6)},\n",
    "    {0:0,\n",
    "     1:0,\n",
    "     2:0,\n",
    "     3:0,\n",
    "     4:1,\n",
    "     5:1,\n",
    "     6:1},\n",
    "    {}],\n",
    "    [{(7,10),\n",
    "     (8,10),\n",
    "     (9,10),\n",
    "     (10,11),\n",
    "     (11,12),\n",
    "     (11,13),\n",
    "     (7,12),\n",
    "     (9,13)},\n",
    "    {7:0,\n",
    "     8:0,\n",
    "     9:0,\n",
    "     10:0,\n",
    "     11:1,\n",
    "     12:1,\n",
    "     13:1},\n",
    "    {}]\n",
    "    ]\n",
    "\n",
    "sp = ShortestPath(normalize=False)\n",
    "b = sp.fit_transform(a)\n",
    "b"
   ]
  },
  {
   "cell_type": "code",
   "execution_count": 13,
   "metadata": {},
   "outputs": [],
   "source": [
    "import networkx as nx\n",
    "\n",
    "G1 = nx.Graph()\n",
    "G1.add_node(0, label=0)\n",
    "G1.add_node(1, label=0)\n",
    "G1.add_node(2, label=0)\n",
    "G1.add_node(3, label=0)\n",
    "G1.add_node(4, label=1)\n",
    "G1.add_node(5, label=1)\n",
    "G1.add_node(6, label=1)\n",
    "G1.add_edges_from([\n",
    "     (0,3),\n",
    "     (1,3),\n",
    "     (2,3),\n",
    "     (3,4),\n",
    "     (4,5),\n",
    "     (4,6)])\n",
    "\n",
    "G2 = nx.Graph()\n",
    "G2.add_node(7, label=0)\n",
    "G2.add_node(8, label=0)\n",
    "G2.add_node(9, label=0)\n",
    "G2.add_node(10, label=0)\n",
    "G2.add_node(11, label=1)\n",
    "G2.add_node(12, label=1)\n",
    "G2.add_node(13, label=1)\n",
    "G2.add_edges_from([\n",
    "     (7,10),\n",
    "     (8,10),\n",
    "     (9,10),\n",
    "     (10,11),\n",
    "     (11,12),\n",
    "     (11,13),\n",
    "     (7,12),\n",
    "     (9,13)])"
   ]
  },
  {
   "cell_type": "code",
   "execution_count": 193,
   "metadata": {},
   "outputs": [
    {
     "data": {
      "text/plain": [
       "{7: 0, 8: 0, 9: 0, 10: 0, 11: 1, 12: 1, 13: 1}"
      ]
     },
     "execution_count": 193,
     "metadata": {},
     "output_type": "execute_result"
    }
   ],
   "source": [
    "node_label_dict = dict(G2.nodes(data=\"label\"))\n",
    "node_label_dict"
   ]
  },
  {
   "cell_type": "code",
   "execution_count": 194,
   "metadata": {},
   "outputs": [
    {
     "data": {
      "text/plain": [
       "[(8, 9, 2),\n",
       " (11, 12, 1),\n",
       " (7, 13, 3),\n",
       " (8, 11, 2),\n",
       " (8, 12, 3),\n",
       " (7, 10, 1),\n",
       " (7, 12, 1),\n",
       " (9, 12, 3),\n",
       " (7, 9, 2),\n",
       " (10, 13, 2),\n",
       " (7, 11, 2),\n",
       " (9, 13, 1),\n",
       " (11, 13, 1),\n",
       " (10, 11, 1),\n",
       " (10, 12, 2),\n",
       " (7, 8, 2),\n",
       " (8, 13, 3),\n",
       " (8, 10, 1),\n",
       " (12, 13, 2),\n",
       " (9, 10, 1),\n",
       " (9, 11, 2)]"
      ]
     },
     "execution_count": 194,
     "metadata": {},
     "output_type": "execute_result"
    }
   ],
   "source": [
    "pairs = []\n",
    "for length in nx.all_pairs_shortest_path_length(G2):\n",
    "    pair = [(*sorted((length[0], k)), v) for k,v in length[1].items() if v != 0]\n",
    "    pairs.extend(pair)\n",
    "\n",
    "pairs = list(set(pairs))\n",
    "pairs"
   ]
  },
  {
   "cell_type": "code",
   "execution_count": 195,
   "metadata": {},
   "outputs": [],
   "source": [
    "for i in range(len(pairs)):\n",
    "    pairs[i] = list(pairs[i])\n",
    "    pairs[i][0], pairs[i][1] = node_label_dict[pairs[i][0]], node_label_dict[pairs[i][1]]\n",
    "    pairs[i] = tuple(pairs[i])"
   ]
  },
  {
   "cell_type": "code",
   "execution_count": 190,
   "metadata": {},
   "outputs": [
    {
     "data": {
      "text/plain": [
       "[((0, 0, 1), 3),\n",
       " ((0, 0, 2), 3),\n",
       " ((0, 1, 1), 1),\n",
       " ((0, 1, 2), 5),\n",
       " ((0, 1, 3), 6),\n",
       " ((1, 1, 1), 2),\n",
       " ((1, 1, 2), 1)]"
      ]
     },
     "execution_count": 190,
     "metadata": {},
     "output_type": "execute_result"
    }
   ],
   "source": [
    "from collections import Counter\n",
    "\n",
    "c1 = sorted(Counter(pairs).items(), key=lambda x: x[0])\n",
    "c1"
   ]
  },
  {
   "cell_type": "code",
   "execution_count": 197,
   "metadata": {},
   "outputs": [
    {
     "data": {
      "text/plain": [
       "[((0, 0, 1), 3),\n",
       " ((0, 0, 2), 3),\n",
       " ((0, 1, 1), 3),\n",
       " ((0, 1, 2), 5),\n",
       " ((0, 1, 3), 4),\n",
       " ((1, 1, 1), 2),\n",
       " ((1, 1, 2), 1)]"
      ]
     },
     "execution_count": 197,
     "metadata": {},
     "output_type": "execute_result"
    }
   ],
   "source": [
    "c2 = sorted(Counter(pairs).items(), key=lambda x: x[0])\n",
    "c2"
   ]
  }
 ],
 "metadata": {
  "kernelspec": {
   "display_name": "grakel",
   "language": "python",
   "name": "python3"
  },
  "language_info": {
   "codemirror_mode": {
    "name": "ipython",
    "version": 3
   },
   "file_extension": ".py",
   "mimetype": "text/x-python",
   "name": "python",
   "nbconvert_exporter": "python",
   "pygments_lexer": "ipython3",
   "version": "3.8.16"
  },
  "orig_nbformat": 4
 },
 "nbformat": 4,
 "nbformat_minor": 2
}
