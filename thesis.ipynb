{
 "cells": [
  {
   "cell_type": "code",
   "execution_count": 1,
   "metadata": {},
   "outputs": [],
   "source": [
    "from kervis.utils import Model\n",
    "from kervis.utils import Evaluator\n",
    "from kervis.kernels import VertexHistogram, EdgeHistogram, ShortestPath, Graphlet, WeisfeilerLehman"
   ]
  },
  {
   "cell_type": "code",
   "execution_count": 2,
   "metadata": {},
   "outputs": [],
   "source": [
    "seed = 42"
   ]
  },
  {
   "cell_type": "code",
   "execution_count": 3,
   "metadata": {},
   "outputs": [],
   "source": [
    "VH = VertexHistogram()\n",
    "VH_AIDS = Model(VH, \"SVM\", \"AIDS\", seed=seed)\n",
    "VH_COX2 = Model(VH, \"SVM\", \"COX2\", seed=seed, camp=\"Set3\")\n",
    "VH_MUTAG = Model(VH, \"SVM\", \"MUTAG\", seed=seed)"
   ]
  },
  {
   "cell_type": "code",
   "execution_count": 4,
   "metadata": {},
   "outputs": [],
   "source": [
    "EH = EdgeHistogram()\n",
    "EH_AIDS = Model(EH, \"SVM\", \"AIDS\", seed=seed)\n",
    "EH_MUTAG = Model(EH, \"SVM\", \"MUTAG\", seed=seed)"
   ]
  },
  {
   "cell_type": "code",
   "execution_count": 12,
   "metadata": {},
   "outputs": [],
   "source": [
    "SP_AIDS = ShortestPath()\n",
    "AIDS = Model(SP_AIDS, \"SVM\", \"AIDS\", seed=seed)\n",
    "\n",
    "SP_COX2 = ShortestPath()\n",
    "COX2 = Model(SP_COX2, \"SVM\", \"COX2\", seed=seed)\n",
    "\n",
    "SP_MUTAG = ShortestPath()\n",
    "MUTAG = Model(SP_MUTAG, \"SVM\", \"MUTAG\", seed=seed)"
   ]
  },
  {
   "cell_type": "code",
   "execution_count": 13,
   "metadata": {},
   "outputs": [
    {
     "name": "stderr",
     "output_type": "stream",
     "text": [
      "Permutation explainer:  11%|█         | 10/94 [00:26<03:45,  2.69s/it]"
     ]
    }
   ],
   "source": [
    "COX2.explain(\"permutation\")"
   ]
  },
  {
   "cell_type": "code",
   "execution_count": 11,
   "metadata": {},
   "outputs": [
    {
     "data": {
      "text/plain": [
       "'COX2'"
      ]
     },
     "execution_count": 11,
     "metadata": {},
     "output_type": "execute_result"
    }
   ],
   "source": [
    "COX2.dataset.X"
   ]
  }
 ],
 "metadata": {
  "kernelspec": {
   "display_name": "grakel",
   "language": "python",
   "name": "python3"
  },
  "language_info": {
   "codemirror_mode": {
    "name": "ipython",
    "version": 3
   },
   "file_extension": ".py",
   "mimetype": "text/x-python",
   "name": "python",
   "nbconvert_exporter": "python",
   "pygments_lexer": "ipython3",
   "version": "3.8.16"
  },
  "orig_nbformat": 4
 },
 "nbformat": 4,
 "nbformat_minor": 2
}
