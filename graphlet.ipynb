{
 "cells": [
  {
   "cell_type": "code",
   "execution_count": 117,
   "metadata": {},
   "outputs": [],
   "source": [
    "import networkx as nx\n",
    "from collections import Counter\n",
    "from kervis.dataset import Dataset\n",
    "from kervis.utils import fetch_dataset\n",
    "from grakel.kernels import GraphletSampling"
   ]
  },
  {
   "cell_type": "code",
   "execution_count": 118,
   "metadata": {},
   "outputs": [],
   "source": [
    "G1 = nx.Graph()\n",
    "G1.add_node(0, label=0)\n",
    "G1.add_node(1, label=0)\n",
    "G1.add_node(2, label=0)\n",
    "G1.add_node(3, label=0)\n",
    "G1.add_node(4, label=1)\n",
    "G1.add_node(5, label=1)\n",
    "G1.add_node(6, label=1)\n",
    "G1.add_edges_from([\n",
    "     (0,3),\n",
    "     (1,3),\n",
    "     (2,3),\n",
    "     (3,4),\n",
    "     (4,5),\n",
    "     (4,6)])\n",
    "\n",
    "G2 = nx.Graph()\n",
    "G2.add_node(7, label=0)\n",
    "G2.add_node(8, label=0)\n",
    "G2.add_node(9, label=0)\n",
    "G2.add_node(10, label=0)\n",
    "G2.add_node(11, label=1)\n",
    "G2.add_node(12, label=1)\n",
    "G2.add_node(13, label=1)\n",
    "G2.add_edges_from([\n",
    "     (7,10),\n",
    "     (8,10),\n",
    "     (9,10),\n",
    "     (10,11),\n",
    "     (11,12),\n",
    "     (11,13),\n",
    "     (7,12),\n",
    "     (9,13)])"
   ]
  },
  {
   "cell_type": "code",
   "execution_count": 119,
   "metadata": {},
   "outputs": [
    {
     "name": "stderr",
     "output_type": "stream",
     "text": [
      "/Users/congrendai/miniconda3/envs/grakel/lib/python3.8/site-packages/grakel/kernels/graphlet_sampling.py:136: UserWarning: no implemented parallelization for GraphletSampling\n",
      "  warnings.warn('no implemented parallelization for GraphletSampling')\n"
     ]
    },
    {
     "data": {
      "text/plain": [
       "array([[ 48.,  24.,   0.,   0.],\n",
       "       [ 26.,  16.,   0.,   0.],\n",
       "       [ 32.,  17.,   0.,   0.],\n",
       "       [ 68.,  37.,   1.,   0.],\n",
       "       [ 18.,  11.,   0.,   0.],\n",
       "       [ 84.,  45.,   0.,   0.],\n",
       "       [ 35.,  19.,   0.,   0.],\n",
       "       [ 52.,  28.,   2.,   0.],\n",
       "       [ 23.,  10.,   2.,   0.],\n",
       "       [ 43.,  25.,   2.,   0.],\n",
       "       [ 52.,  27.,   0.,   0.],\n",
       "       [ 63.,  30.,   0.,   0.],\n",
       "       [ 75.,  43.,   2.,   0.],\n",
       "       [ 26.,  19.,   2.,   0.],\n",
       "       [ 71.,  37.,   0.,   0.],\n",
       "       [ 78.,  45.,   2.,   0.],\n",
       "       [ 21.,  15.,   0.,   0.],\n",
       "       [ 45.,  28.,   2.,   0.],\n",
       "       [ 24.,  13.,   0.,   0.],\n",
       "       [ 49.,  26.,   2.,   0.],\n",
       "       [ 38.,  21.,   0.,   0.],\n",
       "       [ 45.,  24.,   2.,   0.],\n",
       "       [ 86.,  47.,   2.,   0.],\n",
       "       [136.,  69.,   0.,   0.],\n",
       "       [ 45.,  24.,   2.,   0.],\n",
       "       [ 21.,  16.,   0.,   0.],\n",
       "       [ 90.,  45.,   0.,   0.],\n",
       "       [ 45.,  24.,   2.,   0.],\n",
       "       [ 69.,  45.,   2.,   0.],\n",
       "       [ 87.,  45.,   2.,   0.],\n",
       "       [ 80.,  45.,   2.,   0.],\n",
       "       [ 56.,  35.,   0.,   0.],\n",
       "       [ 57.,  36.,   2.,   1.],\n",
       "       [ 28.,  14.,   0.,   0.],\n",
       "       [ 47.,  27.,   2.,   0.],\n",
       "       [ 35.,  19.,   0.,   0.],\n",
       "       [ 31.,  13.,   0.,   0.],\n",
       "       [ 31.,  15.,   0.,   0.],\n",
       "       [ 39.,  20.,   0.,   0.],\n",
       "       [ 32.,  17.,   0.,   0.],\n",
       "       [ 45.,  24.,   2.,   0.],\n",
       "       [ 25.,  16.,   2.,   0.],\n",
       "       [ 65.,  35.,   2.,   0.],\n",
       "       [ 49.,  25.,   0.,   0.],\n",
       "       [ 15.,  13.,   0.,   0.],\n",
       "       [ 77.,  34.,   0.,   0.],\n",
       "       [ 76.,  39.,   0.,   0.],\n",
       "       [ 46.,  22.,   0.,   0.],\n",
       "       [ 55.,  29.,   0.,   0.],\n",
       "       [ 40.,  23.,   0.,   0.],\n",
       "       [ 89.,  44.,   0.,   0.],\n",
       "       [106.,  57.,   0.,   0.],\n",
       "       [ 49.,  28.,   2.,   0.],\n",
       "       [ 54.,  29.,   0.,   0.],\n",
       "       [ 36.,  21.,   0.,   0.],\n",
       "       [ 47.,  23.,   0.,   0.],\n",
       "       [ 43.,  28.,   0.,   0.],\n",
       "       [102.,  55.,   0.,   0.],\n",
       "       [ 88.,  47.,   2.,   0.],\n",
       "       [ 39.,  26.,   0.,   0.],\n",
       "       [ 45.,  24.,   2.,   0.],\n",
       "       [ 13.,   8.,   0.,   0.],\n",
       "       [ 33.,  21.,   3.,   0.],\n",
       "       [ 57.,  37.,   2.,   0.],\n",
       "       [ 40.,  23.,   0.,   0.],\n",
       "       [ 34.,  17.,   0.,   0.],\n",
       "       [ 74.,  41.,   2.,   0.],\n",
       "       [ 90.,  45.,   0.,   0.],\n",
       "       [ 54.,  33.,   2.,   0.],\n",
       "       [ 30.,  23.,   2.,   0.],\n",
       "       [ 93.,  46.,   0.,   0.],\n",
       "       [ 43.,  25.,   2.,   0.],\n",
       "       [ 37.,  19.,   0.,   0.],\n",
       "       [ 74.,  41.,   2.,   0.],\n",
       "       [ 37.,  21.,   0.,   0.],\n",
       "       [ 17.,  11.,   0.,   0.],\n",
       "       [ 32.,  19.,   0.,   0.],\n",
       "       [ 31.,  13.,   0.,   0.],\n",
       "       [ 47.,  23.,   0.,   0.],\n",
       "       [ 61.,  36.,   2.,   0.],\n",
       "       [ 14.,  12.,   0.,   0.],\n",
       "       [ 90.,  53.,   2.,   0.],\n",
       "       [ 35.,  22.,   2.,   0.],\n",
       "       [ 13.,  10.,   0.,   0.],\n",
       "       [ 86.,  45.,   2.,   0.],\n",
       "       [ 87.,  45.,   2.,   0.],\n",
       "       [ 42.,  24.,   2.,   0.],\n",
       "       [ 19.,  13.,   0.,   0.],\n",
       "       [ 28.,  19.,   2.,   0.],\n",
       "       [ 97.,  49.,   0.,   0.],\n",
       "       [ 88.,  48.,   0.,   0.],\n",
       "       [ 70.,  35.,   0.,   0.],\n",
       "       [ 96.,  49.,   0.,   0.],\n",
       "       [ 71.,  37.,   0.,   0.],\n",
       "       [ 37.,  23.,   0.,   0.],\n",
       "       [ 81.,  46.,   0.,   0.],\n",
       "       [ 43.,  25.,   2.,   0.],\n",
       "       [ 26.,  16.,   0.,   0.],\n",
       "       [ 40.,  24.,   2.,   0.],\n",
       "       [ 34.,  17.,   0.,   0.],\n",
       "       [ 94.,  49.,   0.,   0.],\n",
       "       [ 80.,  53.,   2.,   0.],\n",
       "       [ 69.,  35.,   0.,   0.],\n",
       "       [ 95.,  49.,   0.,   0.],\n",
       "       [ 50.,  26.,   0.,   0.],\n",
       "       [ 77.,  41.,   0.,   0.],\n",
       "       [ 87.,  51.,   2.,   0.],\n",
       "       [ 67.,  37.,   2.,   0.],\n",
       "       [126.,  67.,   0.,   0.],\n",
       "       [ 62.,  39.,   0.,   0.],\n",
       "       [ 13.,  10.,   0.,   0.],\n",
       "       [ 31.,  19.,   2.,   0.],\n",
       "       [ 21.,  16.,   0.,   0.],\n",
       "       [ 34.,  19.,   0.,   0.],\n",
       "       [ 20.,  12.,   2.,   0.],\n",
       "       [ 12.,   4.,   0.,   0.],\n",
       "       [ 49.,  29.,   0.,   0.],\n",
       "       [ 82.,  40.,   0.,   0.],\n",
       "       [ 50.,  29.,   0.,   0.],\n",
       "       [ 23.,  16.,   2.,   0.],\n",
       "       [ 88.,  51.,   2.,   0.],\n",
       "       [ 71.,  37.,   0.,   0.],\n",
       "       [ 36.,  17.,   0.,   0.],\n",
       "       [ 16.,  11.,   0.,   0.],\n",
       "       [ 69.,  35.,   0.,   0.],\n",
       "       [ 58.,  31.,   0.,   0.],\n",
       "       [ 49.,  29.,   0.,   0.],\n",
       "       [ 40.,  26.,   2.,   0.],\n",
       "       [ 25.,  17.,   0.,   0.],\n",
       "       [ 20.,  12.,   0.,   0.],\n",
       "       [ 35.,  17.,   0.,   0.],\n",
       "       [ 18.,  10.,   0.,   0.],\n",
       "       [ 65.,  39.,   0.,   0.],\n",
       "       [ 68.,  34.,   0.,   0.],\n",
       "       [ 13.,   8.,   0.,   0.],\n",
       "       [ 76.,  41.,   0.,   0.],\n",
       "       [ 79.,  45.,   2.,   0.],\n",
       "       [ 25.,  16.,   2.,   0.],\n",
       "       [ 18.,  11.,   0.,   0.],\n",
       "       [ 37.,  24.,   0.,   0.],\n",
       "       [ 15.,  11.,   0.,   0.],\n",
       "       [ 57.,  33.,   0.,   0.],\n",
       "       [ 21.,  12.,   0.,   0.],\n",
       "       [ 18.,  11.,   0.,   0.],\n",
       "       [ 33.,  17.,   0.,   0.],\n",
       "       [ 28.,  12.,   0.,   0.],\n",
       "       [ 25.,  16.,   2.,   0.],\n",
       "       [ 31.,  19.,   2.,   0.],\n",
       "       [ 55.,  29.,   0.,   0.],\n",
       "       [ 16.,  12.,   2.,   0.],\n",
       "       [ 26.,  11.,   2.,   0.],\n",
       "       [ 73.,  41.,   2.,   0.],\n",
       "       [ 40.,  26.,   2.,   0.],\n",
       "       [ 23.,  15.,   2.,   0.],\n",
       "       [ 23.,  14.,   0.,   0.],\n",
       "       [ 20.,  12.,   2.,   0.],\n",
       "       [ 59.,  27.,   0.,   0.],\n",
       "       [ 52.,  28.,   2.,   0.],\n",
       "       [ 63.,  30.,   0.,   0.],\n",
       "       [ 28.,  21.,   0.,   0.],\n",
       "       [107.,  57.,   0.,   0.],\n",
       "       [ 57.,  36.,   0.,   0.],\n",
       "       [ 68.,  34.,   0.,   0.],\n",
       "       [ 82.,  45.,   0.,   0.],\n",
       "       [ 55.,  33.,   2.,   0.],\n",
       "       [ 79.,  41.,   0.,   0.],\n",
       "       [ 64.,  31.,   0.,   0.],\n",
       "       [ 13.,  10.,   0.,   0.],\n",
       "       [ 21.,  16.,   0.,   0.],\n",
       "       [ 50.,  25.,   0.,   0.],\n",
       "       [ 57.,  36.,   0.,   0.],\n",
       "       [ 18.,  14.,   2.,   0.],\n",
       "       [ 44.,  29.,   0.,   0.],\n",
       "       [ 56.,  34.,   2.,   0.],\n",
       "       [ 69.,  45.,   0.,   0.],\n",
       "       [ 20.,  12.,   2.,   0.],\n",
       "       [ 57.,  31.,   0.,   0.],\n",
       "       [ 30.,  19.,   2.,   0.],\n",
       "       [ 37.,  23.,   0.,   0.],\n",
       "       [127.,  67.,   0.,   0.],\n",
       "       [ 18.,  11.,   0.,   0.],\n",
       "       [ 34.,  19.,   0.,   0.],\n",
       "       [ 68.,  34.,   0.,   0.],\n",
       "       [ 60.,  36.,   2.,   0.],\n",
       "       [ 21.,  13.,   0.,   0.],\n",
       "       [ 20.,  12.,   2.,   0.],\n",
       "       [ 73.,  37.,   0.,   0.],\n",
       "       [ 43.,  23.,   2.,   0.]])"
      ]
     },
     "execution_count": 119,
     "metadata": {},
     "output_type": "execute_result"
    }
   ],
   "source": [
    "k = 4\n",
    "\n",
    "MUTAG = fetch_dataset(\"MUTAG\", verbose=False)\n",
    "GS = GraphletSampling(k)\n",
    "GS.fit_transform(MUTAG.data)\n",
    "GS._phi_X"
   ]
  },
  {
   "cell_type": "code",
   "execution_count": 120,
   "metadata": {},
   "outputs": [
    {
     "data": {
      "text/plain": [
       "{0: <grakel.kernels._isomorphism.bliss.Graph at 0x160ea34c0>,\n",
       " 1: <grakel.kernels._isomorphism.bliss.Graph at 0x160ea31c0>,\n",
       " 2: <grakel.kernels._isomorphism.bliss.Graph at 0x133aad040>,\n",
       " 3: <grakel.kernels._isomorphism.bliss.Graph at 0x160eb7f70>}"
      ]
     },
     "execution_count": 120,
     "metadata": {},
     "output_type": "execute_result"
    }
   ],
   "source": [
    "GS._graph_bins"
   ]
  },
  {
   "cell_type": "code",
   "execution_count": 121,
   "metadata": {},
   "outputs": [
    {
     "name": "stdout",
     "output_type": "stream",
     "text": [
      "11\n"
     ]
    }
   ],
   "source": [
    "graphlet = [g for g in nx.graph_atlas_g() if len(g.nodes())==k] # and len(list(nx.connected_components(g)))==1\n",
    "print(len(graphlet))"
   ]
  },
  {
   "cell_type": "code",
   "execution_count": 122,
   "metadata": {},
   "outputs": [],
   "source": [
    "from itertools import combinations\n",
    "\n",
    "dataset = Dataset(\"MUTAG\")\n",
    "\n",
    "features = []\n",
    "graph = dataset.graphs[0]\n",
    "\n",
    "for graph in dataset.graphs:\n",
    "    feature = []\n",
    "    C = combinations(list(graph), k)\n",
    "    for c in C:\n",
    "        for i in range(len(graphlet)):\n",
    "            if nx.is_isomorphic(graph.subgraph(c), graphlet[i]):\n",
    "                feature.append((c, i))\n",
    "\n",
    "    features.append(feature)"
   ]
  },
  {
   "cell_type": "code",
   "execution_count": 123,
   "metadata": {},
   "outputs": [
    {
     "data": {
      "image/png": "[encoded data removed]",
      "text/plain": [
       "<Figure size 500x500 with 1 Axes>"
      ]
     },
     "metadata": {},
     "output_type": "display_data"
    }
   ],
   "source": [
    "dataset.plot_graph(0, with_labels=True)"
   ]
  },
  {
   "cell_type": "code",
   "execution_count": 126,
   "metadata": {},
   "outputs": [
    {
     "data": {
      "text/plain": [
       "Counter({6: 37, 2: 286, 3: 107, 1: 1080, 0: 864, 5: 6})"
      ]
     },
     "execution_count": 126,
     "metadata": {},
     "output_type": "execute_result"
    }
   ],
   "source": [
    "temp = []\n",
    "for feature in features[0]:\n",
    "    temp.append(feature[1])\n",
    "\n",
    "Counter(temp)"
   ]
  },
  {
   "cell_type": "code",
   "execution_count": 127,
   "metadata": {},
   "outputs": [
    {
     "data": {
      "image/png": "[encoded data removed]",
      "text/plain": [
       "<Figure size 640x480 with 1 Axes>"
      ]
     },
     "metadata": {},
     "output_type": "display_data"
    }
   ],
   "source": [
    "nx.draw(graphlet[5])"
   ]
  }
 ],
 "metadata": {
  "kernelspec": {
   "display_name": "grakel",
   "language": "python",
   "name": "python3"
  },
  "language_info": {
   "codemirror_mode": {
    "name": "ipython",
    "version": 3
   },
   "file_extension": ".py",
   "mimetype": "text/x-python",
   "name": "python",
   "nbconvert_exporter": "python",
   "pygments_lexer": "ipython3",
   "version": "3.8.16"
  },
  "orig_nbformat": 4
 },
 "nbformat": 4,
 "nbformat_minor": 2
}
