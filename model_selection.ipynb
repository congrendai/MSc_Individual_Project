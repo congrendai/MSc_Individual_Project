{
 "cells": [
  {
   "cell_type": "code",
   "execution_count": 2,
   "metadata": {},
   "outputs": [],
   "source": [
    "from kervis.utils import Model\n",
    "from kervis.utils import Dataset\n",
    "from kervis.kernels import VertexHistogram, EdgeHistogram, ShortestPath, Graphlet, WeisfeilerLehman"
   ]
  },
  {
   "cell_type": "code",
   "execution_count": 3,
   "metadata": {},
   "outputs": [],
   "source": [
    "VH = VertexHistogram()\n",
    "EH = EdgeHistogram()\n",
    "SP = ShortestPath()\n",
    "GL = Graphlet()\n",
    "WL = WeisfeilerLehman()"
   ]
  },
  {
   "cell_type": "code",
   "execution_count": 4,
   "metadata": {},
   "outputs": [
    {
     "name": "stdout",
     "output_type": "stream",
     "text": [
      "              precision    recall  f1-score   support\n",
      "\n",
      "           0       0.67      0.83      0.74        12\n",
      "           1       0.91      0.81      0.86        26\n",
      "\n",
      "    accuracy                           0.82        38\n",
      "   macro avg       0.79      0.82      0.80        38\n",
      "weighted avg       0.84      0.82      0.82        38\n",
      "\n",
      "              precision    recall  f1-score   support\n",
      "\n",
      "           0       0.67      0.83      0.74        12\n",
      "           1       0.91      0.81      0.86        26\n",
      "\n",
      "    accuracy                           0.82        38\n",
      "   macro avg       0.79      0.82      0.80        38\n",
      "weighted avg       0.84      0.82      0.82        38\n",
      "\n",
      "              precision    recall  f1-score   support\n",
      "\n",
      "           0       0.64      0.75      0.69        12\n",
      "           1       0.88      0.81      0.84        26\n",
      "\n",
      "    accuracy                           0.79        38\n",
      "   macro avg       0.76      0.78      0.77        38\n",
      "weighted avg       0.80      0.79      0.79        38\n",
      "\n",
      "              precision    recall  f1-score   support\n",
      "\n",
      "           0       0.67      0.67      0.67        12\n",
      "           1       0.85      0.85      0.85        26\n",
      "\n",
      "    accuracy                           0.79        38\n",
      "   macro avg       0.76      0.76      0.76        38\n",
      "weighted avg       0.79      0.79      0.79        38\n",
      "\n",
      "              precision    recall  f1-score   support\n",
      "\n",
      "           0       0.67      0.83      0.74        12\n",
      "           1       0.91      0.81      0.86        26\n",
      "\n",
      "    accuracy                           0.82        38\n",
      "   macro avg       0.79      0.82      0.80        38\n",
      "weighted avg       0.84      0.82      0.82        38\n",
      "\n"
     ]
    }
   ],
   "source": [
    "VH_MUTAG = Model(VH, Dataset('MUTAG'), \"logistic\")\n",
    "EH_MUTAG = Model(EH, Dataset('MUTAG'), \"logistic\")\n",
    "GL_MUTAG = Model(GL, Dataset('MUTAG'), \"logistic\")\n",
    "SP_MUTAG = Model(SP, Dataset('MUTAG'), \"logistic\")\n",
    "WL_MUTAG = Model(WL, Dataset('MUTAG'), \"logistic\")\n",
    "\n",
    "VH_MUTAG.evaluate()\n",
    "EH_MUTAG.evaluate()\n",
    "GL_MUTAG.evaluate()\n",
    "SP_MUTAG.evaluate()\n",
    "WL_MUTAG.evaluate()"
   ]
  },
  {
   "cell_type": "code",
   "execution_count": 5,
   "metadata": {},
   "outputs": [
    {
     "ename": "KeyboardInterrupt",
     "evalue": "",
     "output_type": "error",
     "traceback": [
      "\u001b[0;31m---------------------------------------------------------------------------\u001b[0m",
      "\u001b[0;31mKeyboardInterrupt\u001b[0m                         Traceback (most recent call last)",
      "Cell \u001b[0;32mIn[5], line 3\u001b[0m\n\u001b[1;32m      1\u001b[0m VH_AIDS \u001b[39m=\u001b[39m Model(VH, Dataset(\u001b[39m'\u001b[39m\u001b[39mAIDS\u001b[39m\u001b[39m'\u001b[39m), \u001b[39m\"\u001b[39m\u001b[39msvm\u001b[39m\u001b[39m\"\u001b[39m)\n\u001b[1;32m      2\u001b[0m EH_AIDS \u001b[39m=\u001b[39m Model(EH, Dataset(\u001b[39m'\u001b[39m\u001b[39mAIDS\u001b[39m\u001b[39m'\u001b[39m), \u001b[39m\"\u001b[39m\u001b[39msvm\u001b[39m\u001b[39m\"\u001b[39m)\n\u001b[0;32m----> 3\u001b[0m GL_AIDS \u001b[39m=\u001b[39m Model(GL, Dataset(\u001b[39m'\u001b[39;49m\u001b[39mAIDS\u001b[39;49m\u001b[39m'\u001b[39;49m), \u001b[39m\"\u001b[39;49m\u001b[39msvm\u001b[39;49m\u001b[39m\"\u001b[39;49m)\n\u001b[1;32m      4\u001b[0m SP_AIDS \u001b[39m=\u001b[39m Model(SP, Dataset(\u001b[39m'\u001b[39m\u001b[39mAIDS\u001b[39m\u001b[39m'\u001b[39m), \u001b[39m\"\u001b[39m\u001b[39msvm\u001b[39m\u001b[39m\"\u001b[39m)\n\u001b[1;32m      5\u001b[0m WL_AIDS \u001b[39m=\u001b[39m Model(WL, Dataset(\u001b[39m'\u001b[39m\u001b[39mAIDS\u001b[39m\u001b[39m'\u001b[39m), \u001b[39m\"\u001b[39m\u001b[39msvm\u001b[39m\u001b[39m\"\u001b[39m)\n",
      "File \u001b[0;32m~/Desktop/MSc Individual Project/KerVis/kervis/utils/model.py:25\u001b[0m, in \u001b[0;36mModel.__init__\u001b[0;34m(self, kernel, dataset, model, test_size, shuffle, seed, camp)\u001b[0m\n\u001b[1;32m     22\u001b[0m     \u001b[39mself\u001b[39m\u001b[39m.\u001b[39mkernel\u001b[39m.\u001b[39mfit_transform(\u001b[39mself\u001b[39m\u001b[39m.\u001b[39mdataset\u001b[39m.\u001b[39mdata) \n\u001b[1;32m     24\u001b[0m \u001b[39melse\u001b[39;00m:\n\u001b[0;32m---> 25\u001b[0m     \u001b[39mself\u001b[39;49m\u001b[39m.\u001b[39;49mkernel\u001b[39m.\u001b[39;49mfit_transform(\u001b[39mself\u001b[39;49m\u001b[39m.\u001b[39;49mdataset\u001b[39m.\u001b[39;49mgraphs)    \n\u001b[1;32m     27\u001b[0m \u001b[39mself\u001b[39m\u001b[39m.\u001b[39mfeatures \u001b[39m=\u001b[39m \u001b[39mself\u001b[39m\u001b[39m.\u001b[39mkernel\u001b[39m.\u001b[39mX\n\u001b[1;32m     29\u001b[0m \u001b[39mif\u001b[39;00m \u001b[39mtype\u001b[39m(\u001b[39mself\u001b[39m\u001b[39m.\u001b[39mfeatures) \u001b[39m==\u001b[39m scipy\u001b[39m.\u001b[39msparse\u001b[39m.\u001b[39mcsr_matrix:\n",
      "File \u001b[0;32m~/Desktop/MSc Individual Project/KerVis/kervis/kernels/kernel.py:14\u001b[0m, in \u001b[0;36mKernel.fit_transform\u001b[0;34m(self, G)\u001b[0m\n\u001b[1;32m     12\u001b[0m \u001b[39mdef\u001b[39;00m \u001b[39mfit_transform\u001b[39m(\u001b[39mself\u001b[39m, G):\n\u001b[1;32m     13\u001b[0m     \u001b[39mwith\u001b[39;00m Pool() \u001b[39mas\u001b[39;00m pool:\n\u001b[0;32m---> 14\u001b[0m         results \u001b[39m=\u001b[39m pool\u001b[39m.\u001b[39;49mmap(\u001b[39mself\u001b[39;49m\u001b[39m.\u001b[39;49mget_feature, G)\n\u001b[1;32m     15\u001b[0m         features \u001b[39m=\u001b[39m [result \u001b[39mfor\u001b[39;00m result \u001b[39min\u001b[39;00m results]\n\u001b[1;32m     17\u001b[0m     feature_counters \u001b[39m=\u001b[39m [Counter(feature) \u001b[39mfor\u001b[39;00m feature \u001b[39min\u001b[39;00m features]\n",
      "File \u001b[0;32m~/miniconda3/lib/python3.10/multiprocessing/pool.py:367\u001b[0m, in \u001b[0;36mPool.map\u001b[0;34m(self, func, iterable, chunksize)\u001b[0m\n\u001b[1;32m    362\u001b[0m \u001b[39mdef\u001b[39;00m \u001b[39mmap\u001b[39m(\u001b[39mself\u001b[39m, func, iterable, chunksize\u001b[39m=\u001b[39m\u001b[39mNone\u001b[39;00m):\n\u001b[1;32m    363\u001b[0m \u001b[39m    \u001b[39m\u001b[39m'''\u001b[39;00m\n\u001b[1;32m    364\u001b[0m \u001b[39m    Apply `func` to each element in `iterable`, collecting the results\u001b[39;00m\n\u001b[1;32m    365\u001b[0m \u001b[39m    in a list that is returned.\u001b[39;00m\n\u001b[1;32m    366\u001b[0m \u001b[39m    '''\u001b[39;00m\n\u001b[0;32m--> 367\u001b[0m     \u001b[39mreturn\u001b[39;00m \u001b[39mself\u001b[39;49m\u001b[39m.\u001b[39;49m_map_async(func, iterable, mapstar, chunksize)\u001b[39m.\u001b[39;49mget()\n",
      "File \u001b[0;32m~/miniconda3/lib/python3.10/multiprocessing/pool.py:768\u001b[0m, in \u001b[0;36mApplyResult.get\u001b[0;34m(self, timeout)\u001b[0m\n\u001b[1;32m    767\u001b[0m \u001b[39mdef\u001b[39;00m \u001b[39mget\u001b[39m(\u001b[39mself\u001b[39m, timeout\u001b[39m=\u001b[39m\u001b[39mNone\u001b[39;00m):\n\u001b[0;32m--> 768\u001b[0m     \u001b[39mself\u001b[39;49m\u001b[39m.\u001b[39;49mwait(timeout)\n\u001b[1;32m    769\u001b[0m     \u001b[39mif\u001b[39;00m \u001b[39mnot\u001b[39;00m \u001b[39mself\u001b[39m\u001b[39m.\u001b[39mready():\n\u001b[1;32m    770\u001b[0m         \u001b[39mraise\u001b[39;00m \u001b[39mTimeoutError\u001b[39;00m\n",
      "File \u001b[0;32m~/miniconda3/lib/python3.10/multiprocessing/pool.py:765\u001b[0m, in \u001b[0;36mApplyResult.wait\u001b[0;34m(self, timeout)\u001b[0m\n\u001b[1;32m    764\u001b[0m \u001b[39mdef\u001b[39;00m \u001b[39mwait\u001b[39m(\u001b[39mself\u001b[39m, timeout\u001b[39m=\u001b[39m\u001b[39mNone\u001b[39;00m):\n\u001b[0;32m--> 765\u001b[0m     \u001b[39mself\u001b[39;49m\u001b[39m.\u001b[39;49m_event\u001b[39m.\u001b[39;49mwait(timeout)\n",
      "File \u001b[0;32m~/miniconda3/lib/python3.10/threading.py:607\u001b[0m, in \u001b[0;36mEvent.wait\u001b[0;34m(self, timeout)\u001b[0m\n\u001b[1;32m    605\u001b[0m signaled \u001b[39m=\u001b[39m \u001b[39mself\u001b[39m\u001b[39m.\u001b[39m_flag\n\u001b[1;32m    606\u001b[0m \u001b[39mif\u001b[39;00m \u001b[39mnot\u001b[39;00m signaled:\n\u001b[0;32m--> 607\u001b[0m     signaled \u001b[39m=\u001b[39m \u001b[39mself\u001b[39;49m\u001b[39m.\u001b[39;49m_cond\u001b[39m.\u001b[39;49mwait(timeout)\n\u001b[1;32m    608\u001b[0m \u001b[39mreturn\u001b[39;00m signaled\n",
      "File \u001b[0;32m~/miniconda3/lib/python3.10/threading.py:320\u001b[0m, in \u001b[0;36mCondition.wait\u001b[0;34m(self, timeout)\u001b[0m\n\u001b[1;32m    318\u001b[0m \u001b[39mtry\u001b[39;00m:    \u001b[39m# restore state no matter what (e.g., KeyboardInterrupt)\u001b[39;00m\n\u001b[1;32m    319\u001b[0m     \u001b[39mif\u001b[39;00m timeout \u001b[39mis\u001b[39;00m \u001b[39mNone\u001b[39;00m:\n\u001b[0;32m--> 320\u001b[0m         waiter\u001b[39m.\u001b[39;49macquire()\n\u001b[1;32m    321\u001b[0m         gotit \u001b[39m=\u001b[39m \u001b[39mTrue\u001b[39;00m\n\u001b[1;32m    322\u001b[0m     \u001b[39melse\u001b[39;00m:\n",
      "\u001b[0;31mKeyboardInterrupt\u001b[0m: "
     ]
    }
   ],
   "source": [
    "VH_AIDS = Model(VH, Dataset('AIDS'), \"svm\")\n",
    "EH_AIDS = Model(EH, Dataset('AIDS'), \"svm\")\n",
    "GL_AIDS = Model(GL, Dataset('AIDS'), \"svm\")\n",
    "SP_AIDS = Model(SP, Dataset('AIDS'), \"svm\")\n",
    "WL_AIDS = Model(WL, Dataset('AIDS'), \"svm\")\n",
    "\n",
    "VH_AIDS.evaluate()\n",
    "EH_AIDS.evaluate()\n",
    "GL_AIDS.evaluate()\n",
    "SP_AIDS.evaluate()\n",
    "WL_AIDS.evaluate()"
   ]
  }
 ],
 "metadata": {
  "kernelspec": {
   "display_name": "grakel",
   "language": "python",
   "name": "python3"
  },
  "language_info": {
   "codemirror_mode": {
    "name": "ipython",
    "version": 3
   },
   "file_extension": ".py",
   "mimetype": "text/x-python",
   "name": "python",
   "nbconvert_exporter": "python",
   "pygments_lexer": "ipython3",
   "version": "3.10.9"
  },
  "orig_nbformat": 4
 },
 "nbformat": 4,
 "nbformat_minor": 2
}
