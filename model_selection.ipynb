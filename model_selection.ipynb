{
 "cells": [
  {
   "cell_type": "code",
   "execution_count": 2,
   "metadata": {},
   "outputs": [],
   "source": [
    "from kervis.utils import Model\n",
    "from kervis.utils import Dataset\n",
    "from kervis.kernels import VertexHistogram, EdgeHistogram, ShortestPath, Graphlet, WeisfeilerLehman"
   ]
  },
  {
   "cell_type": "code",
   "execution_count": 3,
   "metadata": {},
   "outputs": [],
   "source": [
    "VH = VertexHistogram()\n",
    "EH = EdgeHistogram()\n",
    "SP = ShortestPath()\n",
    "GL = Graphlet()\n",
    "WL = WeisfeilerLehman()"
   ]
  },
  {
   "cell_type": "code",
   "execution_count": 4,
   "metadata": {},
   "outputs": [
    {
     "name": "stdout",
     "output_type": "stream",
     "text": [
      "              precision    recall  f1-score   support\n",
      "\n",
      "           0       0.67      0.83      0.74        12\n",
      "           1       0.91      0.81      0.86        26\n",
      "\n",
      "    accuracy                           0.82        38\n",
      "   macro avg       0.79      0.82      0.80        38\n",
      "weighted avg       0.84      0.82      0.82        38\n",
      "\n",
      "              precision    recall  f1-score   support\n",
      "\n",
      "           0       0.67      0.83      0.74        12\n",
      "           1       0.91      0.81      0.86        26\n",
      "\n",
      "    accuracy                           0.82        38\n",
      "   macro avg       0.79      0.82      0.80        38\n",
      "weighted avg       0.84      0.82      0.82        38\n",
      "\n",
      "              precision    recall  f1-score   support\n",
      "\n",
      "           0       0.64      0.75      0.69        12\n",
      "           1       0.88      0.81      0.84        26\n",
      "\n",
      "    accuracy                           0.79        38\n",
      "   macro avg       0.76      0.78      0.77        38\n",
      "weighted avg       0.80      0.79      0.79        38\n",
      "\n",
      "              precision    recall  f1-score   support\n",
      "\n",
      "           0       0.67      0.67      0.67        12\n",
      "           1       0.85      0.85      0.85        26\n",
      "\n",
      "    accuracy                           0.79        38\n",
      "   macro avg       0.76      0.76      0.76        38\n",
      "weighted avg       0.79      0.79      0.79        38\n",
      "\n",
      "              precision    recall  f1-score   support\n",
      "\n",
      "           0       0.67      0.83      0.74        12\n",
      "           1       0.91      0.81      0.86        26\n",
      "\n",
      "    accuracy                           0.82        38\n",
      "   macro avg       0.79      0.82      0.80        38\n",
      "weighted avg       0.84      0.82      0.82        38\n",
      "\n"
     ]
    }
   ],
   "source": [
    "VH_MUTAG = Model(VH, Dataset('MUTAG'), \"logistic\")\n",
    "EH_MUTAG = Model(EH, Dataset('MUTAG'), \"logistic\")\n",
    "GL_MUTAG = Model(GL, Dataset('MUTAG'), \"logistic\")\n",
    "SP_MUTAG = Model(SP, Dataset('MUTAG'), \"logistic\")\n",
    "WL_MUTAG = Model(WL, Dataset('MUTAG'), \"logistic\")\n",
    "\n",
    "VH_MUTAG.evaluate()\n",
    "EH_MUTAG.evaluate()\n",
    "GL_MUTAG.evaluate()\n",
    "SP_MUTAG.evaluate()\n",
    "WL_MUTAG.evaluate()"
   ]
  },
  {
   "cell_type": "code",
   "execution_count": 9,
   "metadata": {},
   "outputs": [
    {
     "data": {
      "text/plain": [
       "networkx.classes.graph.Graph"
      ]
     },
     "execution_count": 9,
     "metadata": {},
     "output_type": "execute_result"
    }
   ],
   "source": [
    "type(WL_MUTAG.dataset.graphs[0])"
   ]
  },
  {
   "cell_type": "code",
   "execution_count": 1,
   "metadata": {},
   "outputs": [
    {
     "ename": "NameError",
     "evalue": "name 'Model' is not defined",
     "output_type": "error",
     "traceback": [
      "\u001b[0;31m---------------------------------------------------------------------------\u001b[0m",
      "\u001b[0;31mNameError\u001b[0m                                 Traceback (most recent call last)",
      "Cell \u001b[0;32mIn[1], line 1\u001b[0m\n\u001b[0;32m----> 1\u001b[0m VH_AIDS \u001b[39m=\u001b[39m Model(VH, Dataset(\u001b[39m'\u001b[39m\u001b[39mMUTAG\u001b[39m\u001b[39m'\u001b[39m), \u001b[39m\"\u001b[39m\u001b[39msvm\u001b[39m\u001b[39m\"\u001b[39m)\n\u001b[1;32m      2\u001b[0m EH_AIDS \u001b[39m=\u001b[39m Model(EH, Dataset(\u001b[39m'\u001b[39m\u001b[39mMUTAG\u001b[39m\u001b[39m'\u001b[39m), \u001b[39m\"\u001b[39m\u001b[39msvm\u001b[39m\u001b[39m\"\u001b[39m)\n\u001b[1;32m      3\u001b[0m GL_AIDS \u001b[39m=\u001b[39m Model(GL, Dataset(\u001b[39m'\u001b[39m\u001b[39mMUTAG\u001b[39m\u001b[39m'\u001b[39m), \u001b[39m\"\u001b[39m\u001b[39msvm\u001b[39m\u001b[39m\"\u001b[39m)\n",
      "\u001b[0;31mNameError\u001b[0m: name 'Model' is not defined"
     ]
    }
   ],
   "source": [
    "VH_AIDS = Model(VH, Dataset('MUTAG'), \"svm\")\n",
    "EH_AIDS = Model(EH, Dataset('MUTAG'), \"svm\")\n",
    "GL_AIDS = Model(GL, Dataset('MUTAG'), \"svm\")\n",
    "SP_AIDS = Model(SP, Dataset('MUTAG'), \"svm\")\n",
    "WL_AIDS = Model(WL, Dataset('MUTAG'), \"svm\")\n",
    "\n",
    "VH_AIDS.evaluate()\n",
    "EH_AIDS.evaluate()\n",
    "GL_AIDS.evaluate()\n",
    "SP_AIDS.evaluate()\n",
    "WL_AIDS.evaluate()"
   ]
  }
 ],
 "metadata": {
  "kernelspec": {
   "display_name": "grakel",
   "language": "python",
   "name": "python3"
  },
  "language_info": {
   "codemirror_mode": {
    "name": "ipython",
    "version": 3
   },
   "file_extension": ".py",
   "mimetype": "text/x-python",
   "name": "python",
   "nbconvert_exporter": "python",
   "pygments_lexer": "ipython3",
   "version": "3.10.9"
  },
  "orig_nbformat": 4
 },
 "nbformat": 4,
 "nbformat_minor": 2
}
