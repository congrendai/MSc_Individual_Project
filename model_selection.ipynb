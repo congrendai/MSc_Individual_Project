{
 "cells": [
  {
   "cell_type": "code",
   "execution_count": 51,
   "metadata": {},
   "outputs": [],
   "source": [
    "from kervis.utils import Model\n",
    "from kervis.utils import Dataset\n",
    "from kervis.kernels import VertexHistogram, EdgeHistogram, ShortestPath, Graphlet, WeisfeilerLehman"
   ]
  },
  {
   "cell_type": "code",
   "execution_count": 52,
   "metadata": {},
   "outputs": [],
   "source": [
    "MUTAG = Dataset(\"MUTAG\")"
   ]
  },
  {
   "cell_type": "code",
   "execution_count": 53,
   "metadata": {},
   "outputs": [],
   "source": [
    "VH = VertexHistogram()\n",
    "VH_kmeans = Model(VH, MUTAG, \"kmeans\")\n",
    "VH_SVM = Model(VH, MUTAG, \"SVM\")\n",
    "VH_xgboost = Model(VH, MUTAG, \"xgboost\")"
   ]
  },
  {
   "cell_type": "code",
   "execution_count": 54,
   "metadata": {},
   "outputs": [
    {
     "name": "stdout",
     "output_type": "stream",
     "text": [
      "              precision    recall  f1-score   support\n",
      "\n",
      "           0       0.50      0.92      0.65        12\n",
      "           1       0.94      0.58      0.71        26\n",
      "\n",
      "    accuracy                           0.68        38\n",
      "   macro avg       0.72      0.75      0.68        38\n",
      "weighted avg       0.80      0.68      0.69        38\n",
      "\n",
      "              precision    recall  f1-score   support\n",
      "\n",
      "           0       0.64      0.75      0.69        12\n",
      "           1       0.88      0.81      0.84        26\n",
      "\n",
      "    accuracy                           0.79        38\n",
      "   macro avg       0.76      0.78      0.77        38\n",
      "weighted avg       0.80      0.79      0.79        38\n",
      "\n",
      "              precision    recall  f1-score   support\n",
      "\n",
      "           0       0.75      0.75      0.75        12\n",
      "           1       0.88      0.88      0.88        26\n",
      "\n",
      "    accuracy                           0.84        38\n",
      "   macro avg       0.82      0.82      0.82        38\n",
      "weighted avg       0.84      0.84      0.84        38\n",
      "\n"
     ]
    }
   ],
   "source": [
    "VH_kmeans.evaluate()\n",
    "VH_SVM.evaluate()\n",
    "VH_xgboost.evaluate()"
   ]
  },
  {
   "cell_type": "code",
   "execution_count": 57,
   "metadata": {},
   "outputs": [
    {
     "name": "stdout",
     "output_type": "stream",
     "text": [
      "              precision    recall  f1-score   support\n",
      "\n",
      "           0       0.55      1.00      0.71        12\n",
      "           1       1.00      0.62      0.76        26\n",
      "\n",
      "    accuracy                           0.74        38\n",
      "   macro avg       0.77      0.81      0.73        38\n",
      "weighted avg       0.86      0.74      0.74        38\n",
      "\n",
      "              precision    recall  f1-score   support\n",
      "\n",
      "           0       0.73      0.67      0.70        12\n",
      "           1       0.85      0.88      0.87        26\n",
      "\n",
      "    accuracy                           0.82        38\n",
      "   macro avg       0.79      0.78      0.78        38\n",
      "weighted avg       0.81      0.82      0.81        38\n",
      "\n",
      "              precision    recall  f1-score   support\n",
      "\n",
      "           0       0.77      0.83      0.80        12\n",
      "           1       0.92      0.88      0.90        26\n",
      "\n",
      "    accuracy                           0.87        38\n",
      "   macro avg       0.84      0.86      0.85        38\n",
      "weighted avg       0.87      0.87      0.87        38\n",
      "\n"
     ]
    }
   ],
   "source": [
    "EH = EdgeHistogram()\n",
    "EH_kmeans = Model(EH, MUTAG, \"kmeans\")\n",
    "EH_SVM = Model(EH, MUTAG, \"SVM\")\n",
    "EH_xgboost = Model(EH, MUTAG, \"xgboost\")\n",
    "\n",
    "EH_kmeans.evaluate()\n",
    "EH_SVM.evaluate()\n",
    "EH_xgboost.evaluate()"
   ]
  },
  {
   "cell_type": "code",
   "execution_count": 59,
   "metadata": {},
   "outputs": [
    {
     "name": "stdout",
     "output_type": "stream",
     "text": [
      "              precision    recall  f1-score   support\n",
      "\n",
      "           0       0.50      1.00      0.67        12\n",
      "           1       1.00      0.54      0.70        26\n",
      "\n",
      "    accuracy                           0.68        38\n",
      "   macro avg       0.75      0.77      0.68        38\n",
      "weighted avg       0.84      0.68      0.69        38\n",
      "\n",
      "              precision    recall  f1-score   support\n",
      "\n",
      "           0       0.67      0.83      0.74        12\n",
      "           1       0.91      0.81      0.86        26\n",
      "\n",
      "    accuracy                           0.82        38\n",
      "   macro avg       0.79      0.82      0.80        38\n",
      "weighted avg       0.84      0.82      0.82        38\n",
      "\n",
      "              precision    recall  f1-score   support\n",
      "\n",
      "           0       0.60      0.50      0.55        12\n",
      "           1       0.79      0.85      0.81        26\n",
      "\n",
      "    accuracy                           0.74        38\n",
      "   macro avg       0.69      0.67      0.68        38\n",
      "weighted avg       0.73      0.74      0.73        38\n",
      "\n"
     ]
    }
   ],
   "source": [
    "SP = ShortestPath()\n",
    "\n",
    "SP_kmeans = Model(SP, MUTAG, \"kmeans\")\n",
    "SP_SVM = Model(SP, MUTAG, \"SVM\")\n",
    "SP_xgboost = Model(SP, MUTAG, \"xgboost\")\n",
    "\n",
    "SP_kmeans.evaluate()\n",
    "SP_SVM.evaluate()\n",
    "SP_xgboost.evaluate()"
   ]
  },
  {
   "cell_type": "code",
   "execution_count": 60,
   "metadata": {},
   "outputs": [
    {
     "name": "stdout",
     "output_type": "stream",
     "text": [
      "              precision    recall  f1-score   support\n",
      "\n",
      "           0       0.06      0.08      0.07        12\n",
      "           1       0.45      0.35      0.39        26\n",
      "\n",
      "    accuracy                           0.26        38\n",
      "   macro avg       0.25      0.21      0.23        38\n",
      "weighted avg       0.33      0.26      0.29        38\n",
      "\n",
      "              precision    recall  f1-score   support\n",
      "\n",
      "           0       0.64      0.75      0.69        12\n",
      "           1       0.88      0.81      0.84        26\n",
      "\n",
      "    accuracy                           0.79        38\n",
      "   macro avg       0.76      0.78      0.77        38\n",
      "weighted avg       0.80      0.79      0.79        38\n",
      "\n",
      "              precision    recall  f1-score   support\n",
      "\n",
      "           0       0.64      0.75      0.69        12\n",
      "           1       0.88      0.81      0.84        26\n",
      "\n",
      "    accuracy                           0.79        38\n",
      "   macro avg       0.76      0.78      0.77        38\n",
      "weighted avg       0.80      0.79      0.79        38\n",
      "\n"
     ]
    }
   ],
   "source": [
    "GL = Graphlet()\n",
    "\n",
    "GL_kmeans = Model(GL, MUTAG, \"kmeans\")\n",
    "GL_SVM = Model(GL, MUTAG, \"SVM\")\n",
    "GL_xgboost = Model(GL, MUTAG, \"xgboost\")\n",
    "\n",
    "GL_kmeans.evaluate()\n",
    "GL_SVM.evaluate()\n",
    "GL_xgboost.evaluate()"
   ]
  }
 ],
 "metadata": {
  "kernelspec": {
   "display_name": "grakel",
   "language": "python",
   "name": "python3"
  },
  "language_info": {
   "codemirror_mode": {
    "name": "ipython",
    "version": 3
   },
   "file_extension": ".py",
   "mimetype": "text/x-python",
   "name": "python",
   "nbconvert_exporter": "python",
   "pygments_lexer": "ipython3",
   "version": "3.10.9"
  },
  "orig_nbformat": 4
 },
 "nbformat": 4,
 "nbformat_minor": 2
}
