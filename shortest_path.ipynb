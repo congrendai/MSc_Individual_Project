{
 "cells": [
  {
   "cell_type": "code",
   "execution_count": 1,
   "metadata": {},
   "outputs": [],
   "source": [
    "from kervis.dataset import Dataset\n",
    "from kervis.kernels import ShortestPath"
   ]
  },
  {
   "cell_type": "code",
   "execution_count": 2,
   "metadata": {},
   "outputs": [],
   "source": [
    "dataset = Dataset(\"MUTAG\")\n",
    "SP = ShortestPath()\n",
    "SP.fit_transform(dataset.graphs)"
   ]
  },
  {
   "cell_type": "code",
   "execution_count": 3,
   "metadata": {},
   "outputs": [
    {
     "data": {
      "text/plain": [
       "Counter({(0, 1, 1): 1,\n",
       "         (0, 0, 3): 22,\n",
       "         (0, 1, 8): 1,\n",
       "         (0, 2, 6): 4,\n",
       "         (0, 0, 2): 22,\n",
       "         (0, 0, 1): 16,\n",
       "         (0, 1, 2): 2,\n",
       "         (0, 2, 8): 4,\n",
       "         (0, 0, 5): 10,\n",
       "         (0, 0, 4): 16,\n",
       "         (0, 2, 2): 2,\n",
       "         (0, 2, 9): 2,\n",
       "         (0, 2, 5): 4,\n",
       "         (0, 0, 6): 4,\n",
       "         (0, 1, 5): 2,\n",
       "         (0, 2, 7): 4,\n",
       "         (0, 1, 7): 2,\n",
       "         (0, 2, 4): 4,\n",
       "         (1, 2, 1): 2,\n",
       "         (0, 2, 3): 4,\n",
       "         (0, 1, 6): 2,\n",
       "         (0, 1, 4): 2,\n",
       "         (0, 0, 7): 1,\n",
       "         (2, 2, 2): 1,\n",
       "         (0, 1, 3): 2})"
      ]
     },
     "execution_count": 3,
     "metadata": {},
     "output_type": "execute_result"
    }
   ],
   "source": [
    "from collections import Counter\n",
    "Counter(SP.get_feature(dataset.graphs[0]))"
   ]
  },
  {
   "cell_type": "code",
   "execution_count": 7,
   "metadata": {},
   "outputs": [
    {
     "name": "stdout",
     "output_type": "stream",
     "text": [
      "61\n",
      "107\n"
     ]
    }
   ],
   "source": [
    "for i, x in enumerate(SP.X[0]):\n",
    "    if x == 16:\n",
    "        print(i)\n",
    "    # print(x)"
   ]
  },
  {
   "cell_type": "code",
   "execution_count": 9,
   "metadata": {},
   "outputs": [
    {
     "data": {
      "text/plain": [
       "(0, 0, 1)"
      ]
     },
     "execution_count": 9,
     "metadata": {},
     "output_type": "execute_result"
    }
   ],
   "source": [
    "SP.attributes[107]"
   ]
  }
 ],
 "metadata": {
  "kernelspec": {
   "display_name": "grakel",
   "language": "python",
   "name": "python3"
  },
  "language_info": {
   "codemirror_mode": {
    "name": "ipython",
    "version": 3
   },
   "file_extension": ".py",
   "mimetype": "text/x-python",
   "name": "python",
   "nbconvert_exporter": "python",
   "pygments_lexer": "ipython3",
   "version": "3.8.16"
  },
  "orig_nbformat": 4
 },
 "nbformat": 4,
 "nbformat_minor": 2
}
