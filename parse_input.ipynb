{
 "cells": [
  {
   "cell_type": "code",
   "execution_count": 1,
   "metadata": {},
   "outputs": [],
   "source": [
    "from utils import fetch_dataset\n",
    "import numpy as np"
   ]
  },
  {
   "cell_type": "code",
   "execution_count": 2,
   "metadata": {},
   "outputs": [
    {
     "name": "stdout",
     "output_type": "stream",
     "text": [
      "./MUTAG/MUTAG_graph_indicator.txt\n",
      "./MUTAG/MUTAG_A.txt\n",
      "./MUTAG/MUTAG_node_labels.txt\n",
      "./MUTAG/MUTAG_node_attributes.txt\n",
      "./MUTAG/MUTAG_edge_labels.txt\n",
      "./MUTAG/MUTAG_edge_attributes.txt\n",
      "./MUTAG/MUTAG_graph_labels.txt\n",
      "./MUTAG/README.txt\n"
     ]
    }
   ],
   "source": [
    "dataset_name = 'MUTAG'\n",
    "dataset = fetch_dataset(dataset_name, verbose=False)"
   ]
  },
  {
   "cell_type": "code",
   "execution_count": 3,
   "metadata": {},
   "outputs": [
    {
     "name": "stdout",
     "output_type": "stream",
     "text": [
      "README for dataset MUTAG\n",
      "\n",
      "\n",
      "=== Usage ===\n",
      "\n",
      "This folder contains the following comma separated text files \n",
      "(replace DS by the name of the dataset):\n",
      "\n",
      "n = total number of nodes\n",
      "m = total number of edges\n",
      "N = number of graphs\n",
      "\n",
      "(1) \tDS_A.txt (m lines) \n",
      "\tsparse (block diagonal) adjacency matrix for all graphs,\n",
      "\teach line corresponds to (row, col) resp. (node_id, node_id)\n",
      "\n",
      "(2) \tDS_graph_indicator.txt (n lines)\n",
      "\tcolumn vector of graph identifiers for all nodes of all graphs,\n",
      "\tthe value in the i-th line is the graph_id of the node with node_id i\n",
      "\n",
      "(3) \tDS_graph_labels.txt (N lines) \n",
      "\tclass labels for all graphs in the dataset,\n",
      "\tthe value in the i-th line is the class label of the graph with graph_id i\n",
      "\n",
      "(4) \tDS_node_labels.txt (n lines)\n",
      "\tcolumn vector of node labels,\n",
      "\tthe value in the i-th line corresponds to the node with node_id i\n",
      "\n",
      "There are OPTIONAL files if the respective information is available:\n",
      "\n",
      "(5) \tDS_edge_labels.txt (m lines; same size as DS_A_sparse.txt)\n",
      "\tlabels for the edges in DD_A_sparse.txt \n",
      "\n",
      "(6) \tDS_edge_attributes.txt (m lines; same size as DS_A.txt)\n",
      "\tattributes for the edges in DS_A.txt \n",
      "\n",
      "(7) \tDS_node_attributes.txt (n lines) \n",
      "\tmatrix of node attributes,\n",
      "\tthe comma seperated values in the i-th line is the attribute vector of the node with node_id i\n",
      "\n",
      "(8) \tDS_graph_attributes.txt (N lines) \n",
      "\tregression values for all graphs in the dataset,\n",
      "\tthe value in the i-th line is the attribute of the graph with graph_id i\n",
      "\n",
      "\n",
      "=== Description of the dataset === \n",
      "\n",
      "The MUTAG dataset consists of 188 chemical compounds divided into two \n",
      "classes according to their mutagenic effect on a bacterium. \n",
      "\n",
      "The chemical data was obtained form http://cdb.ics.uci.edu and converted \n",
      "to graphs, where vertices represent atoms and edges represent chemical \n",
      "bonds. Explicit hydrogen atoms have been removed and vertices are labeled\n",
      "by atom type and edges by bond type (single, double, triple or aromatic).\n",
      "Chemical data was processed using the Chemistry Development Kit (v1.4).\n",
      "\n",
      "Node labels:\n",
      "\n",
      "  0  C\n",
      "  1  N\n",
      "  2  O\n",
      "  3  F\n",
      "  4  I\n",
      "  5  Cl\n",
      "  6  Br\n",
      "\n",
      "Edge labels:\n",
      "\n",
      "  0  aromatic\n",
      "  1  single\n",
      "  2  double\n",
      "  3  triple\n",
      "\n",
      "\n",
      "=== Previous Use of the Dataset ===\n",
      "\n",
      "Kriege, N., Mutzel, P.: Subgraph matching kernels for attributed graphs. In: Proceedings\n",
      "of the 29th International Conference on Machine Learning (ICML-2012) (2012).\n",
      "\n",
      "\n",
      "=== References ===\n",
      "\n",
      "Debnath, A.K., Lopez de Compadre, R.L., Debnath, G., Shusterman, A.J., and Hansch, C.\n",
      "Structure-activity relationship of mutagenic aromatic and heteroaromatic nitro compounds.\n",
      "Correlation with molecular orbital energies and hydrophobicity. J. Med. Chem. 34(2):786-797 (1991).\n",
      "\n"
     ]
    }
   ],
   "source": [
    "# read the file and the delimiter is \\n\n",
    "with open(\"./MUTAG/README.txt\", \"r\") as f:\n",
    "    readme = f.read()\n",
    "\n",
    "print(readme)"
   ]
  }
 ],
 "metadata": {
  "kernelspec": {
   "display_name": "grakel",
   "language": "python",
   "name": "python3"
  },
  "language_info": {
   "codemirror_mode": {
    "name": "ipython",
    "version": 3
   },
   "file_extension": ".py",
   "mimetype": "text/x-python",
   "name": "python",
   "nbconvert_exporter": "python",
   "pygments_lexer": "ipython3",
   "version": "3.8.16"
  },
  "orig_nbformat": 4
 },
 "nbformat": 4,
 "nbformat_minor": 2
}
