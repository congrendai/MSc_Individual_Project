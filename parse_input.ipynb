{
 "cells": [
  {
   "cell_type": "code",
   "execution_count": 1,
   "metadata": {},
   "outputs": [],
   "source": [
    "from utils import fetch_dataset"
   ]
  },
  {
   "cell_type": "code",
   "execution_count": 2,
   "metadata": {},
   "outputs": [],
   "source": [
    "dataset_name = 'MUTAG'\n",
    "dataset = fetch_dataset(dataset_name, verbose=False)"
   ]
  },
  {
   "cell_type": "code",
   "execution_count": 3,
   "metadata": {},
   "outputs": [
    {
     "data": {
      "text/plain": [
       "'README for dataset MUTAG\\n\\n\\n=== Usage ===\\n\\nThis folder contains the following comma separated text files \\n(replace DS by the name of the dataset):\\n\\nn = total number of nodes\\nm = total number of edges\\nN = number of graphs\\n\\n(1) \\tDS_A.txt (m lines) \\n\\tsparse (block diagonal) adjacency matrix for all graphs,\\n\\teach line corresponds to (row, col) resp. (node_id, node_id)\\n\\n(2) \\tDS_graph_indicator.txt (n lines)\\n\\tcolumn vector of graph identifiers for all nodes of all graphs,\\n\\tthe value in the i-th line is the graph_id of the node with node_id i\\n\\n(3) \\tDS_graph_labels.txt (N lines) \\n\\tclass labels for all graphs in the dataset,\\n\\tthe value in the i-th line is the class label of the graph with graph_id i\\n\\n(4) \\tDS_node_labels.txt (n lines)\\n\\tcolumn vector of node labels,\\n\\tthe value in the i-th line corresponds to the node with node_id i\\n\\nThere are OPTIONAL files if the respective information is available:\\n\\n(5) \\tDS_edge_labels.txt (m lines; same size as DS_A_sparse.txt)\\n\\tlabels for the edges in DD_A_sparse.txt \\n\\n(6) \\tDS_edge_attributes.txt (m lines; same size as DS_A.txt)\\n\\tattributes for the edges in DS_A.txt \\n\\n(7) \\tDS_node_attributes.txt (n lines) \\n\\tmatrix of node attributes,\\n\\tthe comma seperated values in the i-th line is the attribute vector of the node with node_id i\\n\\n(8) \\tDS_graph_attributes.txt (N lines) \\n\\tregression values for all graphs in the dataset,\\n\\tthe value in the i-th line is the attribute of the graph with graph_id i\\n\\n\\n=== Description of the dataset === \\n\\nThe MUTAG dataset consists of 188 chemical compounds divided into two \\nclasses according to their mutagenic effect on a bacterium. \\n\\nThe chemical data was obtained form http://cdb.ics.uci.edu and converted \\nto graphs, where vertices represent atoms and edges represent chemical \\nbonds. Explicit hydrogen atoms have been removed and vertices are labeled\\nby atom type and edges by bond type (single, double, triple or aromatic).\\nChemical data was processed using the Chemistry Development Kit (v1.4).\\n\\nNode labels:\\n\\n  0  C\\n  1  N\\n  2  O\\n  3  F\\n  4  I\\n  5  Cl\\n  6  Br\\n\\nEdge labels:\\n\\n  0  aromatic\\n  1  single\\n  2  double\\n  3  triple\\n\\n\\n=== Previous Use of the Dataset ===\\n\\nKriege, N., Mutzel, P.: Subgraph matching kernels for attributed graphs. In: Proceedings\\nof the 29th International Conference on Machine Learning (ICML-2012) (2012).\\n\\n\\n=== References ===\\n\\nDebnath, A.K., Lopez de Compadre, R.L., Debnath, G., Shusterman, A.J., and Hansch, C.\\nStructure-activity relationship of mutagenic aromatic and heteroaromatic nitro compounds.\\nCorrelation with molecular orbital energies and hydrophobicity. J. Med. Chem. 34(2):786-797 (1991).\\n'"
      ]
     },
     "execution_count": 3,
     "metadata": {},
     "output_type": "execute_result"
    }
   ],
   "source": [
    "dataset.readme"
   ]
  }
 ],
 "metadata": {
  "kernelspec": {
   "display_name": "grakel",
   "language": "python",
   "name": "python3"
  },
  "language_info": {
   "codemirror_mode": {
    "name": "ipython",
    "version": 3
   },
   "file_extension": ".py",
   "mimetype": "text/x-python",
   "name": "python",
   "nbconvert_exporter": "python",
   "pygments_lexer": "ipython3",
   "version": "3.8.16"
  },
  "orig_nbformat": 4
 },
 "nbformat": 4,
 "nbformat_minor": 2
}
