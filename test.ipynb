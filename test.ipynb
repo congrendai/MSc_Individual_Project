{
 "cells": [
  {
   "cell_type": "code",
   "execution_count": 1,
   "metadata": {},
   "outputs": [],
   "source": [
    "import numpy as np\n",
    "import networkx as nx\n",
    "from collections import Counter\n",
    "from kervis.dataset import Dataset\n",
    "from kervis.kernels import ShortestPath as kervis_ShortestPath\n",
    "\n",
    "from kervis.utils import fetch_dataset\n",
    "from grakel.kernels import ShortestPath as grakel_ShortestPath"
   ]
  },
  {
   "cell_type": "code",
   "execution_count": 2,
   "metadata": {},
   "outputs": [],
   "source": [
    "G1 = nx.Graph()\n",
    "G1.add_node(0, label=0)\n",
    "G1.add_node(1, label=0)\n",
    "G1.add_node(2, label=0)\n",
    "G1.add_node(3, label=0)\n",
    "G1.add_node(4, label=1)\n",
    "G1.add_node(5, label=1)\n",
    "G1.add_node(6, label=1)\n",
    "G1.add_edges_from([\n",
    "     (0,3),\n",
    "     (1,3),\n",
    "     (2,3),\n",
    "     (3,4),\n",
    "     (4,5),\n",
    "     (4,6)])\n",
    "\n",
    "G2 = nx.Graph()\n",
    "G2.add_node(7, label=0)\n",
    "G2.add_node(8, label=0)\n",
    "G2.add_node(9, label=0)\n",
    "G2.add_node(10, label=0)\n",
    "G2.add_node(11, label=1)\n",
    "G2.add_node(12, label=1)\n",
    "G2.add_node(13, label=1)\n",
    "G2.add_edges_from([\n",
    "     (7,10),\n",
    "     (8,10),\n",
    "     (9,10),\n",
    "     (10,11),\n",
    "     (11,12),\n",
    "     (11,13),\n",
    "     (7,12),\n",
    "     (9,13)])\n",
    "\n",
    "G = [G1, G2]\n",
    "\n",
    "a = [[{(0,3),\n",
    "     (1,3),\n",
    "     (2,3),\n",
    "     (3,4),\n",
    "     (4,5),\n",
    "     (4,6)},\n",
    "    {0:0,\n",
    "     1:0,\n",
    "     2:0,\n",
    "     3:0,\n",
    "     4:1,\n",
    "     5:1,\n",
    "     6:1},\n",
    "    {}],\n",
    "    [{(7,10),\n",
    "     (8,10),\n",
    "     (9,10),\n",
    "     (10,11),\n",
    "     (11,12),\n",
    "     (11,13),\n",
    "     (7,12),\n",
    "     (9,13)},\n",
    "    {7:0,\n",
    "     8:0,\n",
    "     9:0,\n",
    "     10:0,\n",
    "     11:1,\n",
    "     12:1,\n",
    "     13:1},\n",
    "    {}]]"
   ]
  },
  {
   "cell_type": "code",
   "execution_count": 3,
   "metadata": {},
   "outputs": [],
   "source": [
    "SP = kervis_ShortestPath()\n",
    "lengths, lengths_with_labels = SP.fit_transform(G)\n",
    "\n",
    "SP_grakel = grakel_ShortestPath()\n",
    "fitted = SP_grakel.fit_transform(a)"
   ]
  },
  {
   "cell_type": "code",
   "execution_count": 4,
   "metadata": {},
   "outputs": [
    {
     "name": "stdout",
     "output_type": "stream",
     "text": [
      "[6, 1, 2, 3, 1, 5, 3]\n",
      "[3. 5. 6. 1. 2.]\n"
     ]
    }
   ],
   "source": [
    "index = 0\n",
    "print(list(Counter(lengths_with_labels[index]).values()))\n",
    "print(SP_grakel._phi_X[index])"
   ]
  },
  {
   "cell_type": "code",
   "execution_count": 5,
   "metadata": {},
   "outputs": [
    {
     "name": "stdout",
     "output_type": "stream",
     "text": [
      "[1, 22, 1, 4, 22, 16, 2, 4, 10, 16, 2, 2, 4, 4, 2, 4, 2, 4, 2, 4, 2, 2, 1, 1, 2]\n",
      "[32, 44, 44, 32, 20, 8, 2, 1, 2, 2, 4, 2, 4, 2, 4, 2, 4, 2, 4, 2, 4, 1, 2, 1, 2, 2, 2, 2, 2, 2, 1, 2, 2, 4, 4, 4, 4, 4, 4, 2, 2, 2]\n"
     ]
    },
    {
     "data": {
      "image/png": "[encoded data removed]",
      "text/plain": [
       "<Figure size 500x500 with 1 Axes>"
      ]
     },
     "metadata": {},
     "output_type": "display_data"
    }
   ],
   "source": [
    "dataset_nx = Dataset(\"MUTAG\")\n",
    "lengths, lengths_with_labels = SP.fit_transform(dataset_nx.graphs)\n",
    "\n",
    "dataset_gk = fetch_dataset(\"MUTAG\", verbose=False).data\n",
    "fitted = SP_grakel.fit_transform(dataset_gk)\n",
    "\n",
    "index = 0\n",
    "print(list(Counter(lengths_with_labels[index]).values()))\n",
    "print([int(count) for count in SP_grakel._phi_X[index] if count != 0])\n",
    "dataset_nx.plot_graph(0)"
   ]
  },
  {
   "cell_type": "code",
   "execution_count": 7,
   "metadata": {},
   "outputs": [
    {
     "data": {
      "text/plain": [
       "Counter({(0, 1, 1): 1,\n",
       "         (0, 0, 3): 22,\n",
       "         (0, 1, 8): 1,\n",
       "         (0, 2, 6): 4,\n",
       "         (0, 0, 2): 22,\n",
       "         (0, 0, 1): 16,\n",
       "         (0, 1, 2): 2,\n",
       "         (0, 2, 8): 4,\n",
       "         (0, 0, 5): 10,\n",
       "         (0, 0, 4): 16,\n",
       "         (0, 2, 2): 2,\n",
       "         (0, 2, 9): 2,\n",
       "         (0, 2, 5): 4,\n",
       "         (0, 0, 6): 4,\n",
       "         (0, 1, 5): 2,\n",
       "         (0, 2, 7): 4,\n",
       "         (0, 1, 7): 2,\n",
       "         (0, 2, 4): 4,\n",
       "         (1, 2, 1): 2,\n",
       "         (0, 2, 3): 4,\n",
       "         (0, 1, 6): 2,\n",
       "         (0, 1, 4): 2,\n",
       "         (0, 0, 7): 1,\n",
       "         (2, 2, 2): 1,\n",
       "         (0, 1, 3): 2})"
      ]
     },
     "execution_count": 7,
     "metadata": {},
     "output_type": "execute_result"
    }
   ],
   "source": [
    "Counter(lengths_with_labels[index])"
   ]
  }
 ],
 "metadata": {
  "kernelspec": {
   "display_name": "grakel",
   "language": "python",
   "name": "python3"
  },
  "language_info": {
   "codemirror_mode": {
    "name": "ipython",
    "version": 3
   },
   "file_extension": ".py",
   "mimetype": "text/x-python",
   "name": "python",
   "nbconvert_exporter": "python",
   "pygments_lexer": "ipython3",
   "version": "3.8.16"
  },
  "orig_nbformat": 4
 },
 "nbformat": 4,
 "nbformat_minor": 2
}
