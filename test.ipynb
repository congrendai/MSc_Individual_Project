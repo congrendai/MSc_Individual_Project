{
 "cells": [
  {
   "cell_type": "code",
   "execution_count": 3,
   "metadata": {},
   "outputs": [],
   "source": [
    "import networkx as nx\n",
    "from kervis.dataset import Dataset\n",
    "from kervis.kernels import ShortestPath"
   ]
  },
  {
   "cell_type": "code",
   "execution_count": 4,
   "metadata": {},
   "outputs": [],
   "source": [
    "G1 = nx.Graph()\n",
    "G1.add_node(0, label=0)\n",
    "G1.add_node(1, label=0)\n",
    "G1.add_node(2, label=0)\n",
    "G1.add_node(3, label=0)\n",
    "G1.add_node(4, label=1)\n",
    "G1.add_node(5, label=1)\n",
    "G1.add_node(6, label=1)\n",
    "G1.add_edges_from([\n",
    "     (0,3),\n",
    "     (1,3),\n",
    "     (2,3),\n",
    "     (3,4),\n",
    "     (4,5),\n",
    "     (4,6)])\n",
    "\n",
    "G2 = nx.Graph()\n",
    "G2.add_node(7, label=0)\n",
    "G2.add_node(8, label=0)\n",
    "G2.add_node(9, label=0)\n",
    "G2.add_node(10, label=0)\n",
    "G2.add_node(11, label=1)\n",
    "G2.add_node(12, label=1)\n",
    "G2.add_node(13, label=1)\n",
    "G2.add_edges_from([\n",
    "     (7,10),\n",
    "     (8,10),\n",
    "     (9,10),\n",
    "     (10,11),\n",
    "     (11,12),\n",
    "     (11,13),\n",
    "     (7,12),\n",
    "     (9,13)])\n",
    "\n",
    "G = [G1, G2]"
   ]
  },
  {
   "cell_type": "code",
   "execution_count": 5,
   "metadata": {},
   "outputs": [
    {
     "name": "stdout",
     "output_type": "stream",
     "text": [
      "[(1, 6, 3), (5, 6, 2), (4, 6, 1), (1, 2, 2), (3, 4, 1), (1, 4, 2), (2, 4, 2), (0, 5, 3), (3, 5, 2), (1, 5, 3), (0, 1, 2), (2, 5, 3), (0, 6, 3), (0, 3, 1), (4, 5, 1), (1, 3, 1), (2, 6, 3), (3, 6, 2), (2, 3, 1), (0, 4, 2), (0, 2, 2)]\n",
      "[(8, 9, 2), (11, 12, 1), (7, 13, 3), (8, 11, 2), (8, 12, 3), (7, 10, 1), (7, 12, 1), (9, 12, 3), (7, 9, 2), (10, 13, 2), (7, 11, 2), (9, 13, 1), (11, 13, 1), (10, 11, 1), (10, 12, 2), (7, 8, 2), (8, 13, 3), (8, 10, 1), (12, 13, 2), (9, 10, 1), (9, 11, 2)]\n"
     ]
    }
   ],
   "source": [
    "SP = ShortestPath()\n",
    "lengths_with_labels = SP.fit_transform(G)"
   ]
  }
 ],
 "metadata": {
  "kernelspec": {
   "display_name": "grakel",
   "language": "python",
   "name": "python3"
  },
  "language_info": {
   "codemirror_mode": {
    "name": "ipython",
    "version": 3
   },
   "file_extension": ".py",
   "mimetype": "text/x-python",
   "name": "python",
   "nbconvert_exporter": "python",
   "pygments_lexer": "ipython3",
   "version": "3.8.16"
  },
  "orig_nbformat": 4
 },
 "nbformat": 4,
 "nbformat_minor": 2
}
