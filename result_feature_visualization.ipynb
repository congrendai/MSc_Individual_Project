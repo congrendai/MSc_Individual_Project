{
 "cells": [
  {
   "cell_type": "code",
   "execution_count": 2,
   "metadata": {},
   "outputs": [],
   "source": [
    "from kervis.utils import Model, Dataset, create_models\n",
    "from kervis.kernels import VertexHistogram, EdgeHistogram, ShortestPath, GraphletSampling, WeisfeilerLehman"
   ]
  },
  {
   "cell_type": "code",
   "execution_count": 3,
   "metadata": {},
   "outputs": [],
   "source": [
    "MUTAG = Dataset('MUTAG')\n",
    "AIDS = Dataset('AIDS')"
   ]
  },
  {
   "cell_type": "code",
   "execution_count": null,
   "metadata": {},
   "outputs": [],
   "source": [
    "VH = VertexHistogram()\n",
    "EH = EdgeHistogram()\n",
    "SP = ShortestPath()\n",
    "GS_3 = GraphletSampling(k=3)\n",
    "GS_4 = GraphletSampling(k=4)\n",
    "GS_5 = GraphletSampling(k=5)\n",
    "WL_3 = WeisfeilerLehman(n_iter=3)\n",
    "WL_4 = WeisfeilerLehman(n_iter=4)\n",
    "WL_5 = WeisfeilerLehman(n_iter=5)\n",
    "\n",
    "kernels = [VH, EH, SP, GS_3, GS_4, GS_5, WL_3, WL_4, WL_5]"
   ]
  },
  {
   "cell_type": "code",
   "execution_count": null,
   "metadata": {},
   "outputs": [],
   "source": [
    "models_MUTAG = create_models(kernels, MUTAG)\n",
    "# models_AIDS = create_models(kernels, AIDS)"
   ]
  },
  {
   "cell_type": "code",
   "execution_count": null,
   "metadata": {},
   "outputs": [],
   "source": [
    "for model in models_MUTAG.values(): model.explain()\n",
    "# for model in models_AIDS.values(): model.explain()"
   ]
  }
 ],
 "metadata": {
  "kernelspec": {
   "display_name": "base",
   "language": "python",
   "name": "python3"
  },
  "language_info": {
   "codemirror_mode": {
    "name": "ipython",
    "version": 3
   },
   "file_extension": ".py",
   "mimetype": "text/x-python",
   "name": "python",
   "nbconvert_exporter": "python",
   "pygments_lexer": "ipython3",
   "version": "3.10.9"
  },
  "orig_nbformat": 4
 },
 "nbformat": 4,
 "nbformat_minor": 2
}
