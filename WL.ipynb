{
 "cells": [
  {
   "cell_type": "code",
   "execution_count": null,
   "metadata": {},
   "outputs": [],
   "source": [
    "from kervis.utils import fetch_dataset\n",
    "from grakel.kernels import WeisfeilerLehman"
   ]
  },
  {
   "cell_type": "code",
   "execution_count": null,
   "metadata": {},
   "outputs": [],
   "source": [
    "dataset = fetch_dataset(\"MUTAG\", verbose=False)\n",
    "G, y = dataset.data, dataset.target\n",
    "\n",
    "# Initialize the kernel.\n",
    "WL = WeisfeilerLehman(n_iter=5)\n",
    "WL.fit_transform(G)\n",
    "WL._phi_"
   ]
  }
 ],
 "metadata": {
  "language_info": {
   "name": "python"
  },
  "orig_nbformat": 4
 },
 "nbformat": 4,
 "nbformat_minor": 2
}
