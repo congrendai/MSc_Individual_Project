{
 "cells": [
  {
   "cell_type": "code",
   "execution_count": 1,
   "metadata": {},
   "outputs": [],
   "source": [
    "from kervis import Dataset\n",
    "from kervis.utils import fetch_dataset\n",
    "from grakel.kernels import WeisfeilerLehman"
   ]
  },
  {
   "cell_type": "code",
   "execution_count": 2,
   "metadata": {},
   "outputs": [
    {
     "data": {
      "text/plain": [
       "array([[349, 206, 202, ..., 174, 439, 272],\n",
       "       [206, 143, 139, ..., 122, 256, 177],\n",
       "       [202, 139, 143, ..., 124, 252, 181],\n",
       "       ...,\n",
       "       [174, 122, 124, ..., 116, 216, 161],\n",
       "       [439, 256, 252, ..., 216, 577, 342],\n",
       "       [272, 177, 181, ..., 161, 342, 250]])"
      ]
     },
     "execution_count": 2,
     "metadata": {},
     "output_type": "execute_result"
    }
   ],
   "source": [
    "MUTAG = Dataset(\"MUTAG\")\n",
    "\n",
    "dataset = fetch_dataset(\"MUTAG\", verbose=False)\n",
    "G, y = dataset.data, dataset.target\n",
    "\n",
    "# Initialize the kernel.\n",
    "WL = WeisfeilerLehman(n_iter=2)\n",
    "WL.fit_transform(G)"
   ]
  },
  {
   "cell_type": "code",
   "execution_count": 3,
   "metadata": {},
   "outputs": [
    {
     "data": {
      "text/plain": [
       "{0: 0, 1: 1, 2: 2, 3: 3, 4: 4, 5: 5, 6: 6}"
      ]
     },
     "execution_count": 3,
     "metadata": {},
     "output_type": "execute_result"
    }
   ],
   "source": [
    "WL._inv_labels[0]"
   ]
  },
  {
   "cell_type": "code",
   "execution_count": 4,
   "metadata": {},
   "outputs": [
    {
     "data": {
      "text/plain": [
       "array([[14,  1,  2,  0,  0,  0,  0]])"
      ]
     },
     "execution_count": 4,
     "metadata": {},
     "output_type": "execute_result"
    }
   ],
   "source": [
    "WL.X[0].X[0].toarray()"
   ]
  },
  {
   "cell_type": "code",
   "execution_count": 5,
   "metadata": {},
   "outputs": [
    {
     "data": {
      "text/plain": [
       "{'0,[0, 0, 0]': 7,\n",
       " '0,[0, 0, 1]': 8,\n",
       " '0,[0, 0, 2]': 9,\n",
       " '0,[0, 0, 3]': 10,\n",
       " '0,[0, 0, 4]': 11,\n",
       " '0,[0, 0, 5]': 12,\n",
       " '0,[0, 0, 6]': 13,\n",
       " '0,[0, 0]': 14,\n",
       " '0,[0, 1, 1]': 15,\n",
       " '0,[0, 1, 2]': 16,\n",
       " '0,[0, 1]': 17,\n",
       " '0,[0, 2, 2]': 18,\n",
       " '0,[0, 2]': 19,\n",
       " '0,[0, 3, 3, 3]': 20,\n",
       " '0,[0]': 21,\n",
       " '0,[1, 1, 1]': 22,\n",
       " '0,[1, 1]': 23,\n",
       " '0,[1]': 24,\n",
       " '0,[2]': 25,\n",
       " '1,[0, 0, 0]': 26,\n",
       " '1,[0, 0, 1]': 27,\n",
       " '1,[0, 0]': 28,\n",
       " '1,[0, 1]': 29,\n",
       " '1,[0, 2, 2]': 30,\n",
       " '1,[0]': 31,\n",
       " '1,[1]': 32,\n",
       " '2,[0, 0]': 33,\n",
       " '2,[0]': 34,\n",
       " '2,[1]': 35,\n",
       " '3,[0]': 36,\n",
       " '4,[0]': 37,\n",
       " '5,[0]': 38,\n",
       " '6,[0]': 39}"
      ]
     },
     "execution_count": 5,
     "metadata": {},
     "output_type": "execute_result"
    }
   ],
   "source": [
    "WL._inv_labels[1]"
   ]
  },
  {
   "cell_type": "code",
   "execution_count": 6,
   "metadata": {},
   "outputs": [
    {
     "data": {
      "text/plain": [
       "array([[9, 4, 2, 1, 1, 0, 0, 0, 0, 0, 0, 0, 0, 0, 0, 0, 0, 0, 0, 0, 0, 0,\n",
       "        0, 0, 0, 0, 0, 0, 0, 0, 0, 0, 0]])"
      ]
     },
     "execution_count": 6,
     "metadata": {},
     "output_type": "execute_result"
    }
   ],
   "source": [
    "WL.X[1].X[0].toarray()"
   ]
  },
  {
   "cell_type": "code",
   "execution_count": 7,
   "metadata": {},
   "outputs": [
    {
     "data": {
      "image/png": "[encoded data removed]",
      "text/plain": [
       "<Figure size 500x500 with 1 Axes>"
      ]
     },
     "metadata": {},
     "output_type": "display_data"
    }
   ],
   "source": [
    "MUTAG.plot_graph(0)"
   ]
  }
 ],
 "metadata": {
  "kernelspec": {
   "display_name": "grakel",
   "language": "python",
   "name": "python3"
  },
  "language_info": {
   "codemirror_mode": {
    "name": "ipython",
    "version": 3
   },
   "file_extension": ".py",
   "mimetype": "text/x-python",
   "name": "python",
   "nbconvert_exporter": "python",
   "pygments_lexer": "ipython3",
   "version": "3.8.16"
  },
  "orig_nbformat": 4
 },
 "nbformat": 4,
 "nbformat_minor": 2
}
